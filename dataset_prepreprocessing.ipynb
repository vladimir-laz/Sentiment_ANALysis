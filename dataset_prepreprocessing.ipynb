{
 "cells": [
  {
   "cell_type": "code",
   "execution_count": 1,
   "metadata": {},
   "outputs": [],
   "source": [
    "import pandas as pd\n",
    "import yaml"
   ]
  },
  {
   "cell_type": "markdown",
   "metadata": {},
   "source": [
    "## laptops"
   ]
  },
  {
   "cell_type": "code",
   "execution_count": 10,
   "metadata": {},
   "outputs": [],
   "source": [
    "laptop_train_df = pd.read_csv(\"../data/Laptop_Train_v2.csv\")\n",
    "laptop_trial_df = pd.read_csv(\"../data/laptops-trial.csv\")"
   ]
  },
  {
   "cell_type": "markdown",
   "metadata": {},
   "source": [
    "drop excessive columns"
   ]
  },
  {
   "cell_type": "code",
   "execution_count": 11,
   "metadata": {},
   "outputs": [],
   "source": [
    "laptop_train_df = laptop_train_df[[\"Sentence\", \"Aspect Term\", \"polarity\"]]\n",
    "laptop_trial_df = laptop_trial_df[[\"Sentence\", \"Aspect Term\", \"polarity\"]]"
   ]
  },
  {
   "cell_type": "markdown",
   "metadata": {},
   "source": [
    "merge dfs into single"
   ]
  },
  {
   "cell_type": "code",
   "execution_count": 12,
   "metadata": {},
   "outputs": [],
   "source": [
    "laptop_df = pd.concat([laptop_train_df, laptop_trial_df])"
   ]
  },
  {
   "cell_type": "code",
   "execution_count": 22,
   "metadata": {},
   "outputs": [
    {
     "data": {
      "text/html": [
       "<div>\n",
       "<style scoped>\n",
       "    .dataframe tbody tr th:only-of-type {\n",
       "        vertical-align: middle;\n",
       "    }\n",
       "\n",
       "    .dataframe tbody tr th {\n",
       "        vertical-align: top;\n",
       "    }\n",
       "\n",
       "    .dataframe thead th {\n",
       "        text-align: right;\n",
       "    }\n",
       "</style>\n",
       "<table border=\"1\" class=\"dataframe\">\n",
       "  <thead>\n",
       "    <tr style=\"text-align: right;\">\n",
       "      <th></th>\n",
       "      <th>Sentence</th>\n",
       "      <th>Aspect Term</th>\n",
       "      <th>polarity</th>\n",
       "    </tr>\n",
       "  </thead>\n",
       "  <tbody>\n",
       "    <tr>\n",
       "      <th>0</th>\n",
       "      <td>I charge it at night and skip taking the cord ...</td>\n",
       "      <td>cord</td>\n",
       "      <td>neutral</td>\n",
       "    </tr>\n",
       "    <tr>\n",
       "      <th>1</th>\n",
       "      <td>I charge it at night and skip taking the cord ...</td>\n",
       "      <td>battery life</td>\n",
       "      <td>positive</td>\n",
       "    </tr>\n",
       "    <tr>\n",
       "      <th>2</th>\n",
       "      <td>The tech guy then said the service center does...</td>\n",
       "      <td>service center</td>\n",
       "      <td>negative</td>\n",
       "    </tr>\n",
       "    <tr>\n",
       "      <th>3</th>\n",
       "      <td>The tech guy then said the service center does...</td>\n",
       "      <td>\"sales\" team</td>\n",
       "      <td>negative</td>\n",
       "    </tr>\n",
       "    <tr>\n",
       "      <th>4</th>\n",
       "      <td>The tech guy then said the service center does...</td>\n",
       "      <td>tech guy</td>\n",
       "      <td>neutral</td>\n",
       "    </tr>\n",
       "    <tr>\n",
       "      <th>...</th>\n",
       "      <td>...</td>\n",
       "      <td>...</td>\n",
       "      <td>...</td>\n",
       "    </tr>\n",
       "    <tr>\n",
       "      <th>44</th>\n",
       "      <td>The only thing that I don't like about my mac ...</td>\n",
       "      <td>programs</td>\n",
       "      <td>negative</td>\n",
       "    </tr>\n",
       "    <tr>\n",
       "      <th>45</th>\n",
       "      <td>Wireless has not been a issue for me, like som...</td>\n",
       "      <td>Wireless</td>\n",
       "      <td>positive</td>\n",
       "    </tr>\n",
       "    <tr>\n",
       "      <th>46</th>\n",
       "      <td>MacBook Notebooks quickly die out because of t...</td>\n",
       "      <td>battery life</td>\n",
       "      <td>negative</td>\n",
       "    </tr>\n",
       "    <tr>\n",
       "      <th>47</th>\n",
       "      <td>MacBook Notebooks quickly die out because of t...</td>\n",
       "      <td>background programs</td>\n",
       "      <td>negative</td>\n",
       "    </tr>\n",
       "    <tr>\n",
       "      <th>48</th>\n",
       "      <td>All for such a great price.</td>\n",
       "      <td>price</td>\n",
       "      <td>positive</td>\n",
       "    </tr>\n",
       "  </tbody>\n",
       "</table>\n",
       "<p>2362 rows × 3 columns</p>\n",
       "</div>"
      ],
      "text/plain": [
       "                                             Sentence          Aspect Term   \n",
       "0   I charge it at night and skip taking the cord ...                 cord  \\\n",
       "1   I charge it at night and skip taking the cord ...         battery life   \n",
       "2   The tech guy then said the service center does...       service center   \n",
       "3   The tech guy then said the service center does...         \"sales\" team   \n",
       "4   The tech guy then said the service center does...             tech guy   \n",
       "..                                                ...                  ...   \n",
       "44  The only thing that I don't like about my mac ...             programs   \n",
       "45  Wireless has not been a issue for me, like som...             Wireless   \n",
       "46  MacBook Notebooks quickly die out because of t...         battery life   \n",
       "47  MacBook Notebooks quickly die out because of t...  background programs   \n",
       "48                        All for such a great price.                price   \n",
       "\n",
       "    polarity  \n",
       "0    neutral  \n",
       "1   positive  \n",
       "2   negative  \n",
       "3   negative  \n",
       "4    neutral  \n",
       "..       ...  \n",
       "44  negative  \n",
       "45  positive  \n",
       "46  negative  \n",
       "47  negative  \n",
       "48  positive  \n",
       "\n",
       "[2362 rows x 3 columns]"
      ]
     },
     "execution_count": 22,
     "metadata": {},
     "output_type": "execute_result"
    }
   ],
   "source": [
    "laptop_df"
   ]
  },
  {
   "cell_type": "markdown",
   "metadata": {},
   "source": [
    "Make test subset and save it for later test"
   ]
  },
  {
   "cell_type": "code",
   "execution_count": 13,
   "metadata": {},
   "outputs": [],
   "source": [
    "laptop_df = laptop_df[laptop_df.polarity != \"conflict\"]"
   ]
  },
  {
   "cell_type": "code",
   "execution_count": 14,
   "metadata": {},
   "outputs": [],
   "source": [
    "from sklearn.model_selection import train_test_split\n",
    "import yaml\n",
    "\n",
    "with open(\"../config.yaml\") as f:\n",
    "    config = yaml.load(f, Loader=yaml.FullLoader)\n",
    "    \n",
    "laptop_df_train, laptop_df_test = train_test_split(\n",
    "    laptop_df,\n",
    "    test_size=config['preprocessing']['test_ratio'],\n",
    "    random_state=config['preprocessing']['split_seed'],\n",
    "    shuffle=True,\n",
    ")"
   ]
  },
  {
   "cell_type": "code",
   "execution_count": 15,
   "metadata": {},
   "outputs": [],
   "source": [
    "laptop_df_train.to_csv(\"../data/laptop_trainval.csv\", index=False)\n",
    "laptop_df_test.to_csv(\"../data/laptop_test.csv\", index=False)"
   ]
  },
  {
   "cell_type": "markdown",
   "metadata": {},
   "source": [
    "## Restaraunts"
   ]
  },
  {
   "cell_type": "code",
   "execution_count": 16,
   "metadata": {},
   "outputs": [],
   "source": [
    "restaraunts_train_df = pd.read_csv(\"../data/Restaurants_Train_v2.csv\")\n",
    "restaraunts_trial_df = pd.read_csv(\"../data/restaurants-trial.csv\")"
   ]
  },
  {
   "cell_type": "markdown",
   "metadata": {},
   "source": [
    "drop excessive columns"
   ]
  },
  {
   "cell_type": "code",
   "execution_count": 17,
   "metadata": {},
   "outputs": [],
   "source": [
    "restaraunts_train_df = restaraunts_train_df[[\"Sentence\", \"Aspect Term\", \"polarity\"]]\n",
    "restaraunts_trial_df = restaraunts_trial_df[[\"Sentence\", \"Aspect Term\", \"polarity\"]]"
   ]
  },
  {
   "cell_type": "markdown",
   "metadata": {},
   "source": [
    "merge dfs into single for later split"
   ]
  },
  {
   "cell_type": "code",
   "execution_count": 18,
   "metadata": {},
   "outputs": [],
   "source": [
    "restaraunts_df = pd.concat([restaraunts_train_df, restaraunts_trial_df], axis=0)"
   ]
  },
  {
   "cell_type": "markdown",
   "metadata": {},
   "source": [
    "Make test subset and save it for later test"
   ]
  },
  {
   "cell_type": "code",
   "execution_count": 19,
   "metadata": {},
   "outputs": [],
   "source": [
    "restaraunts_df = restaraunts_df[restaraunts_df.polarity != \"conflict\"]\n"
   ]
  },
  {
   "cell_type": "code",
   "execution_count": 20,
   "metadata": {},
   "outputs": [],
   "source": [
    "from sklearn.model_selection import train_test_split\n",
    "import yaml\n",
    "\n",
    "with open(\"../config.yaml\") as f:\n",
    "    config = yaml.load(f, Loader=yaml.FullLoader)\n",
    "    \n",
    "restaraunts_df_train, restaraunts_df_test = train_test_split(\n",
    "    restaraunts_df,\n",
    "    test_size=config['preprocessing']['test_ratio'],\n",
    "    random_state=config['preprocessing']['split_seed'],\n",
    "    shuffle=True,\n",
    ")"
   ]
  },
  {
   "cell_type": "code",
   "execution_count": 21,
   "metadata": {},
   "outputs": [],
   "source": [
    "laptop_df_train.to_csv(\"../data/restaraunts_trainval.csv\", index=False)\n",
    "laptop_df_test.to_csv(\"../data/restaraunts_test.csv\", index=False)"
   ]
  },
  {
   "cell_type": "code",
   "execution_count": null,
   "metadata": {},
   "outputs": [],
   "source": []
  }
 ],
 "metadata": {
  "kernelspec": {
   "display_name": "Python 3 (ipykernel)",
   "language": "python",
   "name": "python3"
  },
  "language_info": {
   "codemirror_mode": {
    "name": "ipython",
    "version": 3
   },
   "file_extension": ".py",
   "mimetype": "text/x-python",
   "name": "python",
   "nbconvert_exporter": "python",
   "pygments_lexer": "ipython3",
   "version": "3.9.16"
  }
 },
 "nbformat": 4,
 "nbformat_minor": 4
}
