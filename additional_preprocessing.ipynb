{
 "cells": [
  {
   "cell_type": "code",
   "execution_count": 1,
   "id": "853382c5-51db-448f-9cff-327d5dc4e0ba",
   "metadata": {},
   "outputs": [
    {
     "name": "stderr",
     "output_type": "stream",
     "text": [
      "[nltk_data] Downloading package punkt to /home/lazarev/nltk_data...\n",
      "[nltk_data]   Package punkt is already up-to-date!\n"
     ]
    },
    {
     "data": {
      "text/plain": [
       "True"
      ]
     },
     "execution_count": 1,
     "metadata": {},
     "output_type": "execute_result"
    }
   ],
   "source": [
    "from tqdm.notebook import tqdm\n",
    "import numpy as np\n",
    "import  pandas as pd\n",
    "import pymorphy2\n",
    "import itertools\n",
    "\n",
    "\n",
    "# ignore fucking warnings\n",
    "import warnings\n",
    "warnings.filterwarnings(\"ignore\")\n",
    "\n",
    "\n",
    "import nltk\n",
    "from nltk.tokenize import RegexpTokenizer\n",
    "nltk.download('punkt')"
   ]
  },
  {
   "cell_type": "markdown",
   "id": "1d0adfa2-6bba-4122-b7fd-ab809113081c",
   "metadata": {},
   "source": [
    "# preprocessing"
   ]
  },
  {
   "cell_type": "code",
   "execution_count": 14,
   "id": "73633564-1fc8-45cb-b043-05a2a7c8d710",
   "metadata": {},
   "outputs": [
    {
     "name": "stderr",
     "output_type": "stream",
     "text": [
      "[nltk_data] Downloading package stopwords to\n",
      "[nltk_data]     /home/lazarev/nltk_data...\n",
      "[nltk_data]   Package stopwords is already up-to-date!\n"
     ]
    }
   ],
   "source": [
    "nltk.download('stopwords')\n",
    "# pymorphy2 анализатор\n",
    "morph = pymorphy2.MorphAnalyzer()\n",
    "# стоп слова из nltk\n",
    "stops = nltk.corpus.stopwords.words('russian')"
   ]
  },
  {
   "cell_type": "code",
   "execution_count": 15,
   "id": "565f0b76-31ff-4618-852b-2e93847b5929",
   "metadata": {},
   "outputs": [],
   "source": [
    "word_tokenizer = RegexpTokenizer(r'[a-zа-яёЁА-ЯA-Z]+|[^\\w\\s]|\\d+')\n",
    "sent_tokenizer = lambda sent: nltk.sent_tokenize(sent, language=\"russian\")"
   ]
  },
  {
   "cell_type": "code",
   "execution_count": 16,
   "id": "e208819f-a870-4dfc-8fb4-4f22ca618651",
   "metadata": {},
   "outputs": [],
   "source": [
    "def proccess_text(text):\n",
    "    text= text.lower()\n",
    "    sents = sent_tokenizer(text)\n",
    "    words = list(\n",
    "        itertools.chain.from_iterable(\n",
    "            word_tokenizer.tokenize_sents(sents)))\n",
    "    return [x for x in [morph.normal_forms(word)[0] for word in words ]\\\n",
    "            if x not in stops]"
   ]
  },
  {
   "cell_type": "code",
   "execution_count": 17,
   "id": "682ff734-eb9c-4e5e-8f34-2e738b837537",
   "metadata": {},
   "outputs": [
    {
     "data": {
      "text/html": [
       "<div>\n",
       "<style scoped>\n",
       "    .dataframe tbody tr th:only-of-type {\n",
       "        vertical-align: middle;\n",
       "    }\n",
       "\n",
       "    .dataframe tbody tr th {\n",
       "        vertical-align: top;\n",
       "    }\n",
       "\n",
       "    .dataframe thead th {\n",
       "        text-align: right;\n",
       "    }\n",
       "</style>\n",
       "<table border=\"1\" class=\"dataframe\">\n",
       "  <thead>\n",
       "    <tr style=\"text-align: right;\">\n",
       "      <th></th>\n",
       "      <th>text</th>\n",
       "      <th>entity</th>\n",
       "      <th>entity_tag</th>\n",
       "      <th>entity_pos_start_rel</th>\n",
       "      <th>entity_pos_end_rel</th>\n",
       "      <th>category</th>\n",
       "    </tr>\n",
       "  </thead>\n",
       "  <tbody>\n",
       "    <tr>\n",
       "      <th>0</th>\n",
       "      <td>Джеймс «Бадди» Макгирт (James (Buddy) McGirt, ...</td>\n",
       "      <td>спортсмена</td>\n",
       "      <td>PROFESSION</td>\n",
       "      <td>86</td>\n",
       "      <td>96</td>\n",
       "      <td>0</td>\n",
       "    </tr>\n",
       "    <tr>\n",
       "      <th>1</th>\n",
       "      <td>«За всю нашу долгую карьеру нам довелось играт...</td>\n",
       "      <td>музыкантов</td>\n",
       "      <td>PROFESSION</td>\n",
       "      <td>258</td>\n",
       "      <td>268</td>\n",
       "      <td>0</td>\n",
       "    </tr>\n",
       "    <tr>\n",
       "      <th>2</th>\n",
       "      <td>Ранее, 7 декабря, толпа болельщиков перекрыла ...</td>\n",
       "      <td>Егоре Свиридове</td>\n",
       "      <td>PERSON</td>\n",
       "      <td>175</td>\n",
       "      <td>190</td>\n",
       "      <td>0</td>\n",
       "    </tr>\n",
       "    <tr>\n",
       "      <th>3</th>\n",
       "      <td>В субботу, 21 июля 2018 года, на арене СК «Оли...</td>\n",
       "      <td>россиянина</td>\n",
       "      <td>NATIONALITY</td>\n",
       "      <td>122</td>\n",
       "      <td>132</td>\n",
       "      <td>0</td>\n",
       "    </tr>\n",
       "    <tr>\n",
       "      <th>4</th>\n",
       "      <td>Представитель талибов Забиулла Муджахид в твит...</td>\n",
       "      <td>американских захватчика</td>\n",
       "      <td>PROFESSION</td>\n",
       "      <td>109</td>\n",
       "      <td>132</td>\n",
       "      <td>-1</td>\n",
       "    </tr>\n",
       "    <tr>\n",
       "      <th>5</th>\n",
       "      <td>Астронавт Пирс Селлерс, который брал с собой в...</td>\n",
       "      <td>Пирс Селлерс</td>\n",
       "      <td>PERSON</td>\n",
       "      <td>10</td>\n",
       "      <td>22</td>\n",
       "      <td>0</td>\n",
       "    </tr>\n",
       "    <tr>\n",
       "      <th>6</th>\n",
       "      <td>Президент США Дональд Трамп охарактеризовал си...</td>\n",
       "      <td>Президент США</td>\n",
       "      <td>PROFESSION</td>\n",
       "      <td>0</td>\n",
       "      <td>13</td>\n",
       "      <td>0</td>\n",
       "    </tr>\n",
       "    <tr>\n",
       "      <th>7</th>\n",
       "      <td>По словам Мнучина, «Мадуро цепляется за Кубу, ...</td>\n",
       "      <td>Мадуро</td>\n",
       "      <td>PERSON</td>\n",
       "      <td>20</td>\n",
       "      <td>26</td>\n",
       "      <td>-1</td>\n",
       "    </tr>\n",
       "    <tr>\n",
       "      <th>8</th>\n",
       "      <td>Поводом для возможного задержания якобы стали ...</td>\n",
       "      <td>Макафи</td>\n",
       "      <td>PERSON</td>\n",
       "      <td>72</td>\n",
       "      <td>78</td>\n",
       "      <td>-1</td>\n",
       "    </tr>\n",
       "    <tr>\n",
       "      <th>9</th>\n",
       "      <td>Джон Леннон был убит в 1980 году одним из его ...</td>\n",
       "      <td>охранником</td>\n",
       "      <td>PROFESSION</td>\n",
       "      <td>66</td>\n",
       "      <td>76</td>\n",
       "      <td>0</td>\n",
       "    </tr>\n",
       "  </tbody>\n",
       "</table>\n",
       "</div>"
      ],
      "text/plain": [
       "                                                text                   entity   \n",
       "0  Джеймс «Бадди» Макгирт (James (Buddy) McGirt, ...               спортсмена  \\\n",
       "1  «За всю нашу долгую карьеру нам довелось играт...               музыкантов   \n",
       "2  Ранее, 7 декабря, толпа болельщиков перекрыла ...          Егоре Свиридове   \n",
       "3  В субботу, 21 июля 2018 года, на арене СК «Оли...               россиянина   \n",
       "4  Представитель талибов Забиулла Муджахид в твит...  американских захватчика   \n",
       "5  Астронавт Пирс Селлерс, который брал с собой в...             Пирс Селлерс   \n",
       "6  Президент США Дональд Трамп охарактеризовал си...            Президент США   \n",
       "7  По словам Мнучина, «Мадуро цепляется за Кубу, ...                   Мадуро   \n",
       "8  Поводом для возможного задержания якобы стали ...                   Макафи   \n",
       "9  Джон Леннон был убит в 1980 году одним из его ...               охранником   \n",
       "\n",
       "    entity_tag  entity_pos_start_rel  entity_pos_end_rel  category  \n",
       "0   PROFESSION                    86                  96         0  \n",
       "1   PROFESSION                   258                 268         0  \n",
       "2       PERSON                   175                 190         0  \n",
       "3  NATIONALITY                   122                 132         0  \n",
       "4   PROFESSION                   109                 132        -1  \n",
       "5       PERSON                    10                  22         0  \n",
       "6   PROFESSION                     0                  13         0  \n",
       "7       PERSON                    20                  26        -1  \n",
       "8       PERSON                    72                  78        -1  \n",
       "9   PROFESSION                    66                  76         0  "
      ]
     },
     "execution_count": 17,
     "metadata": {},
     "output_type": "execute_result"
    }
   ],
   "source": [
    "dataframe = pd.read_csv(\"data/data_ruSentNE.csv\")\n",
    "dataframe.head(10)"
   ]
  },
  {
   "cell_type": "code",
   "execution_count": 18,
   "id": "29dd20cd-2842-47e0-9a5c-30fa8f5788f6",
   "metadata": {
    "scrolled": true,
    "tags": []
   },
   "outputs": [
    {
     "data": {
      "application/vnd.jupyter.widget-view+json": {
       "model_id": "524478b70b5d4700828e7edf6ad6b6b7",
       "version_major": 2,
       "version_minor": 0
      },
      "text/plain": [
       "  0%|          | 0/9482 [00:00<?, ?it/s]"
      ]
     },
     "metadata": {},
     "output_type": "display_data"
    },
    {
     "data": {
      "application/vnd.jupyter.widget-view+json": {
       "model_id": "f2816171804f4df592407e3a4726ba48",
       "version_major": 2,
       "version_minor": 0
      },
      "text/plain": [
       "  0%|          | 0/9482 [00:00<?, ?it/s]"
      ]
     },
     "metadata": {},
     "output_type": "display_data"
    }
   ],
   "source": [
    "data_text = dataframe['text']\n",
    "for i in tqdm(range(len(dataframe))):\n",
    "    # print(data_text.loc[i])\n",
    "    data_text.iloc[i] = ' '.join(proccess_text(data_text.loc[i]))\n",
    "    \n",
    "\n",
    "data_text = dataframe['entity']\n",
    "for i in tqdm(range(len(dataframe))):\n",
    "    # print(data_text.loc[i])\n",
    "    data_text.iloc[i] = ' '.join(proccess_text(data_text.loc[i]))\n",
    "dataframe.to_csv('data/data_ruSentNE_lemmatized.csv', index=False)\n",
    "\n",
    "# препроцесинг занимает порядка двух часов (из-за лематизации), поэтому \n",
    "# рекомендуется загрузить сразу обработанную версию\n"
   ]
  },
  {
   "cell_type": "code",
   "execution_count": 19,
   "id": "39317361-9ca2-4578-8086-d04d0809d705",
   "metadata": {},
   "outputs": [
    {
     "data": {
      "text/html": [
       "<div>\n",
       "<style scoped>\n",
       "    .dataframe tbody tr th:only-of-type {\n",
       "        vertical-align: middle;\n",
       "    }\n",
       "\n",
       "    .dataframe tbody tr th {\n",
       "        vertical-align: top;\n",
       "    }\n",
       "\n",
       "    .dataframe thead th {\n",
       "        text-align: right;\n",
       "    }\n",
       "</style>\n",
       "<table border=\"1\" class=\"dataframe\">\n",
       "  <thead>\n",
       "    <tr style=\"text-align: right;\">\n",
       "      <th></th>\n",
       "      <th>text</th>\n",
       "      <th>entity</th>\n",
       "      <th>entity_tag</th>\n",
       "      <th>entity_pos_start_rel</th>\n",
       "      <th>entity_pos_end_rel</th>\n",
       "      <th>category</th>\n",
       "    </tr>\n",
       "  </thead>\n",
       "  <tbody>\n",
       "    <tr>\n",
       "      <th>0</th>\n",
       "      <td>джеймс « бадди » макгирт ( james ( buddy ) mcg...</td>\n",
       "      <td>спортсмен</td>\n",
       "      <td>PROFESSION</td>\n",
       "      <td>86</td>\n",
       "      <td>96</td>\n",
       "      <td>0</td>\n",
       "    </tr>\n",
       "    <tr>\n",
       "      <th>1</th>\n",
       "      <td>« весь наш долгий карьера довестись играть мно...</td>\n",
       "      <td>музыкант</td>\n",
       "      <td>PROFESSION</td>\n",
       "      <td>258</td>\n",
       "      <td>268</td>\n",
       "      <td>0</td>\n",
       "    </tr>\n",
       "    <tr>\n",
       "      <th>2</th>\n",
       "      <td>ранее , 7 декабрь , толпа болельщик перекрыть ...</td>\n",
       "      <td>егор свиридов</td>\n",
       "      <td>PERSON</td>\n",
       "      <td>175</td>\n",
       "      <td>190</td>\n",
       "      <td>0</td>\n",
       "    </tr>\n",
       "    <tr>\n",
       "      <th>3</th>\n",
       "      <td>суббота , 21 июль 2018 год , арена ск « олимпи...</td>\n",
       "      <td>россиянин</td>\n",
       "      <td>NATIONALITY</td>\n",
       "      <td>122</td>\n",
       "      <td>132</td>\n",
       "      <td>0</td>\n",
       "    </tr>\n",
       "    <tr>\n",
       "      <th>4</th>\n",
       "      <td>представитель талиб забиулла муджахид твиттер ...</td>\n",
       "      <td>американский захватчик</td>\n",
       "      <td>PROFESSION</td>\n",
       "      <td>109</td>\n",
       "      <td>132</td>\n",
       "      <td>-1</td>\n",
       "    </tr>\n",
       "    <tr>\n",
       "      <th>5</th>\n",
       "      <td>астронавт пирс селлерс , который брать полёт м...</td>\n",
       "      <td>пирс селлерс</td>\n",
       "      <td>PERSON</td>\n",
       "      <td>10</td>\n",
       "      <td>22</td>\n",
       "      <td>0</td>\n",
       "    </tr>\n",
       "    <tr>\n",
       "      <th>6</th>\n",
       "      <td>президент сша дональд трамп охарактеризовать с...</td>\n",
       "      <td>президент сша</td>\n",
       "      <td>PROFESSION</td>\n",
       "      <td>0</td>\n",
       "      <td>13</td>\n",
       "      <td>0</td>\n",
       "    </tr>\n",
       "    <tr>\n",
       "      <th>7</th>\n",
       "      <td>слово мнучин , « мадурый цепляться куба , оста...</td>\n",
       "      <td>мадурый</td>\n",
       "      <td>PERSON</td>\n",
       "      <td>20</td>\n",
       "      <td>26</td>\n",
       "      <td>-1</td>\n",
       "    </tr>\n",
       "    <tr>\n",
       "      <th>8</th>\n",
       "      <td>повод возможный задержание якобы стать подозре...</td>\n",
       "      <td>макафи</td>\n",
       "      <td>PERSON</td>\n",
       "      <td>72</td>\n",
       "      <td>78</td>\n",
       "      <td>-1</td>\n",
       "    </tr>\n",
       "    <tr>\n",
       "      <th>9</th>\n",
       "      <td>джон леннон убить 1980 год фанат — 25 - летний...</td>\n",
       "      <td>охранник</td>\n",
       "      <td>PROFESSION</td>\n",
       "      <td>66</td>\n",
       "      <td>76</td>\n",
       "      <td>0</td>\n",
       "    </tr>\n",
       "  </tbody>\n",
       "</table>\n",
       "</div>"
      ],
      "text/plain": [
       "                                                text                  entity   \n",
       "0  джеймс « бадди » макгирт ( james ( buddy ) mcg...               спортсмен  \\\n",
       "1  « весь наш долгий карьера довестись играть мно...                музыкант   \n",
       "2  ранее , 7 декабрь , толпа болельщик перекрыть ...           егор свиридов   \n",
       "3  суббота , 21 июль 2018 год , арена ск « олимпи...               россиянин   \n",
       "4  представитель талиб забиулла муджахид твиттер ...  американский захватчик   \n",
       "5  астронавт пирс селлерс , который брать полёт м...            пирс селлерс   \n",
       "6  президент сша дональд трамп охарактеризовать с...           президент сша   \n",
       "7  слово мнучин , « мадурый цепляться куба , оста...                 мадурый   \n",
       "8  повод возможный задержание якобы стать подозре...                  макафи   \n",
       "9  джон леннон убить 1980 год фанат — 25 - летний...                охранник   \n",
       "\n",
       "    entity_tag  entity_pos_start_rel  entity_pos_end_rel  category  \n",
       "0   PROFESSION                    86                  96         0  \n",
       "1   PROFESSION                   258                 268         0  \n",
       "2       PERSON                   175                 190         0  \n",
       "3  NATIONALITY                   122                 132         0  \n",
       "4   PROFESSION                   109                 132        -1  \n",
       "5       PERSON                    10                  22         0  \n",
       "6   PROFESSION                     0                  13         0  \n",
       "7       PERSON                    20                  26        -1  \n",
       "8       PERSON                    72                  78        -1  \n",
       "9   PROFESSION                    66                  76         0  "
      ]
     },
     "execution_count": 19,
     "metadata": {},
     "output_type": "execute_result"
    }
   ],
   "source": [
    "dataframe = pd.read_csv(\"data/data_ruSentNE_lemmatized.csv\")\n",
    "dataframe.head(10)"
   ]
  },
  {
   "cell_type": "markdown",
   "id": "68318fc6-7bd6-403d-8440-e4e93768dcd8",
   "metadata": {},
   "source": [
    "# undersampling"
   ]
  },
  {
   "cell_type": "code",
   "execution_count": 21,
   "id": "7ccb7de3-23bf-4759-a021-790791f1747b",
   "metadata": {},
   "outputs": [
    {
     "data": {
      "text/html": [
       "<div>\n",
       "<style scoped>\n",
       "    .dataframe tbody tr th:only-of-type {\n",
       "        vertical-align: middle;\n",
       "    }\n",
       "\n",
       "    .dataframe tbody tr th {\n",
       "        vertical-align: top;\n",
       "    }\n",
       "\n",
       "    .dataframe thead th {\n",
       "        text-align: right;\n",
       "    }\n",
       "</style>\n",
       "<table border=\"1\" class=\"dataframe\">\n",
       "  <thead>\n",
       "    <tr style=\"text-align: right;\">\n",
       "      <th></th>\n",
       "      <th>text</th>\n",
       "      <th>entity</th>\n",
       "      <th>entity_tag</th>\n",
       "      <th>entity_pos_start_rel</th>\n",
       "      <th>entity_pos_end_rel</th>\n",
       "      <th>category</th>\n",
       "    </tr>\n",
       "  </thead>\n",
       "  <tbody>\n",
       "    <tr>\n",
       "      <th>0</th>\n",
       "      <td>джеймс « бадди » макгирт ( james ( buddy ) mcg...</td>\n",
       "      <td>спортсмен</td>\n",
       "      <td>PROFESSION</td>\n",
       "      <td>86</td>\n",
       "      <td>96</td>\n",
       "      <td>0</td>\n",
       "    </tr>\n",
       "    <tr>\n",
       "      <th>1</th>\n",
       "      <td>« весь наш долгий карьера довестись играть мно...</td>\n",
       "      <td>музыкант</td>\n",
       "      <td>PROFESSION</td>\n",
       "      <td>258</td>\n",
       "      <td>268</td>\n",
       "      <td>0</td>\n",
       "    </tr>\n",
       "    <tr>\n",
       "      <th>2</th>\n",
       "      <td>ранее , 7 декабрь , толпа болельщик перекрыть ...</td>\n",
       "      <td>егор свиридов</td>\n",
       "      <td>PERSON</td>\n",
       "      <td>175</td>\n",
       "      <td>190</td>\n",
       "      <td>0</td>\n",
       "    </tr>\n",
       "    <tr>\n",
       "      <th>3</th>\n",
       "      <td>суббота , 21 июль 2018 год , арена ск « олимпи...</td>\n",
       "      <td>россиянин</td>\n",
       "      <td>NATIONALITY</td>\n",
       "      <td>122</td>\n",
       "      <td>132</td>\n",
       "      <td>0</td>\n",
       "    </tr>\n",
       "    <tr>\n",
       "      <th>4</th>\n",
       "      <td>представитель талиб забиулла муджахид твиттер ...</td>\n",
       "      <td>американский захватчик</td>\n",
       "      <td>PROFESSION</td>\n",
       "      <td>109</td>\n",
       "      <td>132</td>\n",
       "      <td>-1</td>\n",
       "    </tr>\n",
       "    <tr>\n",
       "      <th>5</th>\n",
       "      <td>астронавт пирс селлерс , который брать полёт м...</td>\n",
       "      <td>пирс селлерс</td>\n",
       "      <td>PERSON</td>\n",
       "      <td>10</td>\n",
       "      <td>22</td>\n",
       "      <td>0</td>\n",
       "    </tr>\n",
       "    <tr>\n",
       "      <th>6</th>\n",
       "      <td>президент сша дональд трамп охарактеризовать с...</td>\n",
       "      <td>президент сша</td>\n",
       "      <td>PROFESSION</td>\n",
       "      <td>0</td>\n",
       "      <td>13</td>\n",
       "      <td>0</td>\n",
       "    </tr>\n",
       "    <tr>\n",
       "      <th>7</th>\n",
       "      <td>слово мнучин , « мадурый цепляться куба , оста...</td>\n",
       "      <td>мадурый</td>\n",
       "      <td>PERSON</td>\n",
       "      <td>20</td>\n",
       "      <td>26</td>\n",
       "      <td>-1</td>\n",
       "    </tr>\n",
       "    <tr>\n",
       "      <th>8</th>\n",
       "      <td>повод возможный задержание якобы стать подозре...</td>\n",
       "      <td>макафи</td>\n",
       "      <td>PERSON</td>\n",
       "      <td>72</td>\n",
       "      <td>78</td>\n",
       "      <td>-1</td>\n",
       "    </tr>\n",
       "    <tr>\n",
       "      <th>9</th>\n",
       "      <td>джон леннон убить 1980 год фанат — 25 - летний...</td>\n",
       "      <td>охранник</td>\n",
       "      <td>PROFESSION</td>\n",
       "      <td>66</td>\n",
       "      <td>76</td>\n",
       "      <td>0</td>\n",
       "    </tr>\n",
       "  </tbody>\n",
       "</table>\n",
       "</div>"
      ],
      "text/plain": [
       "                                                text                  entity   \n",
       "0  джеймс « бадди » макгирт ( james ( buddy ) mcg...               спортсмен  \\\n",
       "1  « весь наш долгий карьера довестись играть мно...                музыкант   \n",
       "2  ранее , 7 декабрь , толпа болельщик перекрыть ...           егор свиридов   \n",
       "3  суббота , 21 июль 2018 год , арена ск « олимпи...               россиянин   \n",
       "4  представитель талиб забиулла муджахид твиттер ...  американский захватчик   \n",
       "5  астронавт пирс селлерс , который брать полёт м...            пирс селлерс   \n",
       "6  президент сша дональд трамп охарактеризовать с...           президент сша   \n",
       "7  слово мнучин , « мадурый цепляться куба , оста...                 мадурый   \n",
       "8  повод возможный задержание якобы стать подозре...                  макафи   \n",
       "9  джон леннон убить 1980 год фанат — 25 - летний...                охранник   \n",
       "\n",
       "    entity_tag  entity_pos_start_rel  entity_pos_end_rel  category  \n",
       "0   PROFESSION                    86                  96         0  \n",
       "1   PROFESSION                   258                 268         0  \n",
       "2       PERSON                   175                 190         0  \n",
       "3  NATIONALITY                   122                 132         0  \n",
       "4   PROFESSION                   109                 132        -1  \n",
       "5       PERSON                    10                  22         0  \n",
       "6   PROFESSION                     0                  13         0  \n",
       "7       PERSON                    20                  26        -1  \n",
       "8       PERSON                    72                  78        -1  \n",
       "9   PROFESSION                    66                  76         0  "
      ]
     },
     "execution_count": 21,
     "metadata": {},
     "output_type": "execute_result"
    }
   ],
   "source": [
    "dataframe = pd.read_csv(\"data/data_ruSentNE_lemmatized.csv\")\n",
    "dataframe.head(10)"
   ]
  },
  {
   "cell_type": "code",
   "execution_count": 22,
   "id": "c580080c-75c2-489a-8817-214232986a91",
   "metadata": {},
   "outputs": [
    {
     "data": {
      "text/plain": [
       "((6819, 6), (1218, 6), (1445, 6))"
      ]
     },
     "execution_count": 22,
     "metadata": {},
     "output_type": "execute_result"
    }
   ],
   "source": [
    "(dataframe[dataframe[\"category\"] == 0].shape, \n",
    " dataframe[dataframe[\"category\"] == 1].shape, \n",
    " dataframe[dataframe[\"category\"] == -1].shape)"
   ]
  },
  {
   "cell_type": "code",
   "execution_count": 23,
   "id": "85cb3f18-0298-4da6-98b4-c4339c05aec5",
   "metadata": {},
   "outputs": [
    {
     "data": {
      "text/plain": [
       "(1136,)"
      ]
     },
     "execution_count": 23,
     "metadata": {},
     "output_type": "execute_result"
    }
   ],
   "source": [
    "random_indexes = np.random.choice(np.arange(dataframe[dataframe[\"category\"] == 0].shape[0]), \n",
    "                                  dataframe[dataframe[\"category\"] == 0].shape[0]//6)\n",
    "random_indexes.shape"
   ]
  },
  {
   "cell_type": "code",
   "execution_count": 24,
   "id": "2521b0b2-e6ce-4247-98e8-6123cc7009e6",
   "metadata": {},
   "outputs": [],
   "source": [
    "dataframe = pd.concat((\n",
    "    dataframe[dataframe[\"category\"] == 0].iloc[random_indexes],\n",
    "    dataframe[dataframe[\"category\"] == 1],\n",
    "    dataframe[dataframe[\"category\"] == -1],\n",
    "))"
   ]
  },
  {
   "cell_type": "code",
   "execution_count": 25,
   "id": "18014134-a8b2-4778-9dea-a1d8090bb5c7",
   "metadata": {},
   "outputs": [
    {
     "data": {
      "text/plain": [
       "(3799, 6)"
      ]
     },
     "execution_count": 25,
     "metadata": {},
     "output_type": "execute_result"
    }
   ],
   "source": [
    "dataframe.shape"
   ]
  },
  {
   "cell_type": "code",
   "execution_count": 26,
   "id": "70f24c8d-8697-4e3f-aec9-45e359454636",
   "metadata": {},
   "outputs": [],
   "source": [
    "dataframe.to_csv('data/data_ruSentNE_lemmatized.csv', index=False)"
   ]
  },
  {
   "cell_type": "markdown",
   "id": "c58f5af2-44e9-4872-b34c-db1e1c8207e2",
   "metadata": {},
   "source": [
    "# Final data"
   ]
  },
  {
   "cell_type": "code",
   "execution_count": 57,
   "id": "c899bea9-94a1-494f-8e05-1cc4388d381e",
   "metadata": {},
   "outputs": [
    {
     "data": {
      "text/html": [
       "<div>\n",
       "<style scoped>\n",
       "    .dataframe tbody tr th:only-of-type {\n",
       "        vertical-align: middle;\n",
       "    }\n",
       "\n",
       "    .dataframe tbody tr th {\n",
       "        vertical-align: top;\n",
       "    }\n",
       "\n",
       "    .dataframe thead th {\n",
       "        text-align: right;\n",
       "    }\n",
       "</style>\n",
       "<table border=\"1\" class=\"dataframe\">\n",
       "  <thead>\n",
       "    <tr style=\"text-align: right;\">\n",
       "      <th></th>\n",
       "      <th>sentence</th>\n",
       "      <th>entity</th>\n",
       "      <th>entity_tag</th>\n",
       "      <th>entity_pos_start_rel</th>\n",
       "      <th>entity_pos_end_rel</th>\n",
       "    </tr>\n",
       "  </thead>\n",
       "  <tbody>\n",
       "    <tr>\n",
       "      <th>0</th>\n",
       "      <td>Абдул Реза Шайхулислами выразил готовность Ира...</td>\n",
       "      <td>Абдул Реза Шайхулислами</td>\n",
       "      <td>PERSON</td>\n",
       "      <td>0</td>\n",
       "      <td>23</td>\n",
       "    </tr>\n",
       "    <tr>\n",
       "      <th>1</th>\n",
       "      <td>Абдул Реза Шайхулислами выразил готовность Ира...</td>\n",
       "      <td>афганцев</td>\n",
       "      <td>NATIONALITY</td>\n",
       "      <td>157</td>\n",
       "      <td>165</td>\n",
       "    </tr>\n",
       "    <tr>\n",
       "      <th>2</th>\n",
       "      <td>Абдул Реза Шайхулислами выразил готовность Ира...</td>\n",
       "      <td>правительству Афганистана</td>\n",
       "      <td>ORGANIZATION</td>\n",
       "      <td>68</td>\n",
       "      <td>93</td>\n",
       "    </tr>\n",
       "    <tr>\n",
       "      <th>3</th>\n",
       "      <td>В своем выступлении Абдул Реза Шайхулислами от...</td>\n",
       "      <td>Абдул Реза Шайхулислами</td>\n",
       "      <td>PERSON</td>\n",
       "      <td>20</td>\n",
       "      <td>43</td>\n",
       "    </tr>\n",
       "    <tr>\n",
       "      <th>4</th>\n",
       "      <td>В свою очередь, Зорар Ахмад Мокбел заявил о то...</td>\n",
       "      <td>Ирана</td>\n",
       "      <td>COUNTRY</td>\n",
       "      <td>86</td>\n",
       "      <td>91</td>\n",
       "    </tr>\n",
       "  </tbody>\n",
       "</table>\n",
       "</div>"
      ],
      "text/plain": [
       "                                            sentence   \n",
       "0  Абдул Реза Шайхулислами выразил готовность Ира...  \\\n",
       "1  Абдул Реза Шайхулислами выразил готовность Ира...   \n",
       "2  Абдул Реза Шайхулислами выразил готовность Ира...   \n",
       "3  В своем выступлении Абдул Реза Шайхулислами от...   \n",
       "4  В свою очередь, Зорар Ахмад Мокбел заявил о то...   \n",
       "\n",
       "                      entity    entity_tag  entity_pos_start_rel   \n",
       "0    Абдул Реза Шайхулислами        PERSON                     0  \\\n",
       "1                   афганцев   NATIONALITY                   157   \n",
       "2  правительству Афганистана  ORGANIZATION                    68   \n",
       "3    Абдул Реза Шайхулислами        PERSON                    20   \n",
       "4                      Ирана       COUNTRY                    86   \n",
       "\n",
       "   entity_pos_end_rel  \n",
       "0                  23  \n",
       "1                 165  \n",
       "2                  93  \n",
       "3                  43  \n",
       "4                  91  "
      ]
     },
     "execution_count": 57,
     "metadata": {},
     "output_type": "execute_result"
    }
   ],
   "source": [
    "dataframe = pd.read_csv(\"../data/final_data.csv\", delimiter='\\t')\n",
    "dataframe.head()"
   ]
  },
  {
   "cell_type": "code",
   "execution_count": 58,
   "id": "32acefa6-93a4-4eaf-87b6-d3b5b56d4624",
   "metadata": {},
   "outputs": [],
   "source": [
    "dataframe['category'] = 1"
   ]
  },
  {
   "cell_type": "code",
   "execution_count": 59,
   "id": "f576efb4-31c8-434d-a9e1-2edf7d030581",
   "metadata": {},
   "outputs": [],
   "source": [
    "dataframe.to_csv('../data/data_ruSentNE_lemmatized.csv', index=False)"
   ]
  },
  {
   "cell_type": "markdown",
   "id": "0a794373-495d-450f-a9ac-06b429517c77",
   "metadata": {},
   "source": []
  },
  {
   "cell_type": "code",
   "execution_count": 5,
   "id": "cb3f3e87-7787-42d7-8383-0531038d769b",
   "metadata": {},
   "outputs": [],
   "source": [
    "df_1 = pd.read_csv(f\"data/laptop_trainval.csv\")\n",
    "df_2 = pd.read_csv(f\"data/restaraunts_trainval.csv\")\n",
    "df = pd.concat([df_1, df_2])\n",
    "df_1_test = pd.read_csv(f\"data/laptop_test.csv\")\n",
    "df_2_rest = pd.read_csv(f\"data/restaraunts_test.csv\")\n",
    "df_test = pd.concat([df_1_test, df_2_rest])"
   ]
  },
  {
   "cell_type": "code",
   "execution_count": null,
   "id": "59fbb4bf-554a-47d0-baae-45d374b02343",
   "metadata": {},
   "outputs": [],
   "source": [
    "df"
   ]
  }
 ],
 "metadata": {
  "kernelspec": {
   "display_name": "study",
   "language": "python",
   "name": "study"
  },
  "language_info": {
   "codemirror_mode": {
    "name": "ipython",
    "version": 3
   },
   "file_extension": ".py",
   "mimetype": "text/x-python",
   "name": "python",
   "nbconvert_exporter": "python",
   "pygments_lexer": "ipython3",
   "version": "3.10.11"
  }
 },
 "nbformat": 4,
 "nbformat_minor": 5
}
