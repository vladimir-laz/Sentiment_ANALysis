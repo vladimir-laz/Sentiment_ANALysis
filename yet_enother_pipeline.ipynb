{
 "cells": [
  {
   "cell_type": "code",
   "execution_count": 1,
   "id": "b93cfebc-3e1b-4564-a8ef-7af6f18d4c5a",
   "metadata": {},
   "outputs": [],
   "source": [
    "# <your imports>\n",
    "import numpy as np\n",
    "import torch\n",
    "from torch.optim import Adam\n",
    "import torch.nn as nn\n",
    "from tqdm import tqdm\n",
    "from omegaconf import OmegaConf\n",
    "from sklearn.metrics import accuracy_score, recall_score, precision_score, f1_score\n",
    "from transformers import TrainingArguments, Trainer\n",
    "from transformers import BertForSequenceClassification, XLMRobertaXLConfig\n",
    "from transformers import EarlyStoppingCallback\n",
    "\n",
    "from preprocessing import Preprocessing\n",
    "from matplotlib import pyplot as plt\n",
    "\n",
    "# models\n",
    "from models import BertClassifier\n",
    "\n",
    "# ignore fucking warnings\n",
    "import warnings\n",
    "warnings.filterwarnings(\"ignore\")"
   ]
  },
  {
   "cell_type": "code",
   "execution_count": 2,
   "id": "d85fd90f-27b4-4725-ae45-7fd5dd343f11",
   "metadata": {},
   "outputs": [],
   "source": [
    "def custom_f1(p):\n",
    "    pred, labels = p\n",
    "    pred = np.argmax(pred, axis=1)\n",
    "\n",
    "    f1_scores = f1_score(y_true=labels, y_pred=pred, average=None)\n",
    "    final_score = np.mean(f1_scores[1:])\n",
    "    # return {\"custom F1 score\": final_score}\n",
    "    return {\n",
    "        \"F1 for class 0\": f1_scores[0],\n",
    "        \"F1 for class 1\": f1_scores[1],\n",
    "        \"F1 for class 2\": f1_scores[2]\n",
    "    }\n",
    "\n",
    "def compute_metrics(p):\n",
    "    pred, labels = p\n",
    "    # print(pred, labels)\n",
    "    # print(np.unique(labels, return_counts=True), labels.shape)\n",
    "    pred = np.argmax(pred, axis=1)\n",
    "\n",
    "    accuracy = accuracy_score(y_true=labels, y_pred=pred)\n",
    "    recall = recall_score(y_true=labels, y_pred=pred, average='weighted')\n",
    "    precision = precision_score(y_true=labels, y_pred=pred, average='weighted')\n",
    "    f1 = f1_score(y_true=labels, y_pred=pred, average='weighted')\n",
    "\n",
    "    return {\"accuracy\": accuracy, \"precision\": precision, \"recall\": recall, \"f1\": f1}"
   ]
  },
  {
   "cell_type": "code",
   "execution_count": 3,
   "id": "3cff66ae-9757-4a1d-af9f-ed11505e196f",
   "metadata": {},
   "outputs": [],
   "source": [
    "preprocessor = Preprocessing()\n",
    "\n",
    "# result = preprocessor.get_dataloaders()\n",
    "result = preprocessor.get_datasets()\n",
    "\n",
    "train_set = result[\"train_set\"]\n",
    "val_set = result[\"val_set\"]\n",
    "# plt.hist(val_set.labels, bins=3)"
   ]
  },
  {
   "cell_type": "code",
   "execution_count": 4,
   "id": "59a990fd-880c-40fa-8780-c97e324bcae5",
   "metadata": {},
   "outputs": [
    {
     "name": "stdout",
     "output_type": "stream",
     "text": [
      "dataset_name: ruSentNE_lemmatized\n",
      "batch_size: 64\n",
      "device: cpu:0\n",
      "dataloader_shuffle: True\n",
      "pretrained_model: bert-base-uncased\n",
      "num_classes: 3\n",
      "num_workers: 1\n",
      "lr: 1e-06\n",
      "epochs: 5\n",
      "eps: 1e-08\n",
      "optimizer: AdamW\n",
      "eval_steps: 10\n",
      "logging_steps: 10\n"
     ]
    }
   ],
   "source": [
    "conf = OmegaConf.load(\"config.yaml\").general\n",
    "for i in conf.keys():\n",
    "    print(f'{i}: {conf[i]}')"
   ]
  },
  {
   "cell_type": "code",
   "execution_count": 5,
   "id": "2c80f1d5-9860-4298-b227-9d743d6fdd7d",
   "metadata": {
    "scrolled": true,
    "tags": []
   },
   "outputs": [],
   "source": [
    "# help(AutoModelForSequenceClassification)"
   ]
  },
  {
   "cell_type": "code",
   "execution_count": 6,
   "id": "3c9818b9-0557-4b76-8882-f10bef7e54c8",
   "metadata": {},
   "outputs": [],
   "source": [
    "from transformers import AutoModelForSequenceClassification, TrainingArguments, Trainer\n",
    "\n",
    "model = AutoModelForSequenceClassification.from_pretrained(\n",
    "    # \"cardiffnlp/twitter-roberta-base-sentiment\",\n",
    "    \"coderSounak/finetuned_twitter_sentiment_LSTM\", \n",
    "    # 'cardiffnlp/twitter-xlm-roberta-base-sentiment',\n",
    "    num_labels=3,\n",
    ")"
   ]
  },
  {
   "cell_type": "code",
   "execution_count": 7,
   "id": "89ce90e2-78a4-4aa8-bcc9-e8ec3ae71786",
   "metadata": {},
   "outputs": [],
   "source": [
    "args = TrainingArguments(\n",
    "    output_dir=\"output\",\n",
    "    evaluation_strategy=\"steps\",\n",
    "    eval_steps=conf.eval_steps,\n",
    "    per_device_train_batch_size=conf.batch_size,\n",
    "    per_device_eval_batch_size=conf.batch_size,\n",
    "    num_train_epochs=conf.epochs,\n",
    "    seed=42,\n",
    "    logging_steps=conf.logging_steps,\n",
    "    # learning_rate=conf.lr,\n",
    "    learning_rate=5e-7,\n",
    "    load_best_model_at_end=True,\n",
    ")"
   ]
  },
  {
   "cell_type": "code",
   "execution_count": 8,
   "id": "6f4ece38-24a7-46b4-945a-8ac82b8b7947",
   "metadata": {},
   "outputs": [],
   "source": [
    "trainer = Trainer(\n",
    "    model=model,\n",
    "    args=args,\n",
    "    train_dataset=train_set,\n",
    "    eval_dataset=val_set,\n",
    "    # compute_metrics=compute_metrics,\n",
    "    compute_metrics=custom_f1,\n",
    "    callbacks=[EarlyStoppingCallback(early_stopping_patience=3)],\n",
    ")"
   ]
  },
  {
   "cell_type": "markdown",
   "id": "e6b13d7d-eefe-469d-a990-01b9bc9938d2",
   "metadata": {
    "tags": []
   },
   "source": [
    "## Train loop"
   ]
  },
  {
   "cell_type": "code",
   "execution_count": 9,
   "id": "85061a42-c01a-4f70-b893-bd4a45529244",
   "metadata": {
    "scrolled": true,
    "tags": []
   },
   "outputs": [
    {
     "data": {
      "text/html": [
       "\n",
       "    <div>\n",
       "      \n",
       "      <progress value='240' max='240' style='width:300px; height:20px; vertical-align: middle;'></progress>\n",
       "      [240/240 00:25, Epoch 5/5]\n",
       "    </div>\n",
       "    <table border=\"1\" class=\"dataframe\">\n",
       "  <thead>\n",
       " <tr style=\"text-align: left;\">\n",
       "      <th>Step</th>\n",
       "      <th>Training Loss</th>\n",
       "      <th>Validation Loss</th>\n",
       "      <th>F1 for class 0</th>\n",
       "      <th>F1 for class 1</th>\n",
       "      <th>F1 for class 2</th>\n",
       "    </tr>\n",
       "  </thead>\n",
       "  <tbody>\n",
       "    <tr>\n",
       "      <td>10</td>\n",
       "      <td>1.100400</td>\n",
       "      <td>1.101343</td>\n",
       "      <td>0.518857</td>\n",
       "      <td>0.079051</td>\n",
       "      <td>0.265306</td>\n",
       "    </tr>\n",
       "    <tr>\n",
       "      <td>20</td>\n",
       "      <td>1.111000</td>\n",
       "      <td>1.100791</td>\n",
       "      <td>0.510638</td>\n",
       "      <td>0.016667</td>\n",
       "      <td>0.258398</td>\n",
       "    </tr>\n",
       "    <tr>\n",
       "      <td>30</td>\n",
       "      <td>1.107100</td>\n",
       "      <td>1.099999</td>\n",
       "      <td>0.514156</td>\n",
       "      <td>0.016807</td>\n",
       "      <td>0.265664</td>\n",
       "    </tr>\n",
       "    <tr>\n",
       "      <td>40</td>\n",
       "      <td>1.114500</td>\n",
       "      <td>1.099418</td>\n",
       "      <td>0.513699</td>\n",
       "      <td>0.017094</td>\n",
       "      <td>0.268293</td>\n",
       "    </tr>\n",
       "    <tr>\n",
       "      <td>50</td>\n",
       "      <td>1.110600</td>\n",
       "      <td>1.098821</td>\n",
       "      <td>0.515535</td>\n",
       "      <td>0.017094</td>\n",
       "      <td>0.282974</td>\n",
       "    </tr>\n",
       "    <tr>\n",
       "      <td>60</td>\n",
       "      <td>1.115000</td>\n",
       "      <td>1.098325</td>\n",
       "      <td>0.501750</td>\n",
       "      <td>0.017241</td>\n",
       "      <td>0.278422</td>\n",
       "    </tr>\n",
       "    <tr>\n",
       "      <td>70</td>\n",
       "      <td>1.104100</td>\n",
       "      <td>1.098067</td>\n",
       "      <td>0.504103</td>\n",
       "      <td>0.017316</td>\n",
       "      <td>0.288991</td>\n",
       "    </tr>\n",
       "    <tr>\n",
       "      <td>80</td>\n",
       "      <td>1.107600</td>\n",
       "      <td>1.097911</td>\n",
       "      <td>0.501758</td>\n",
       "      <td>0.017391</td>\n",
       "      <td>0.288330</td>\n",
       "    </tr>\n",
       "    <tr>\n",
       "      <td>90</td>\n",
       "      <td>1.108400</td>\n",
       "      <td>1.097772</td>\n",
       "      <td>0.501758</td>\n",
       "      <td>0.008734</td>\n",
       "      <td>0.292237</td>\n",
       "    </tr>\n",
       "    <tr>\n",
       "      <td>100</td>\n",
       "      <td>1.099200</td>\n",
       "      <td>1.097747</td>\n",
       "      <td>0.502924</td>\n",
       "      <td>0.008734</td>\n",
       "      <td>0.288991</td>\n",
       "    </tr>\n",
       "    <tr>\n",
       "      <td>110</td>\n",
       "      <td>1.111100</td>\n",
       "      <td>1.097746</td>\n",
       "      <td>0.503497</td>\n",
       "      <td>0.008734</td>\n",
       "      <td>0.281755</td>\n",
       "    </tr>\n",
       "    <tr>\n",
       "      <td>120</td>\n",
       "      <td>1.099700</td>\n",
       "      <td>1.097643</td>\n",
       "      <td>0.502924</td>\n",
       "      <td>0.008734</td>\n",
       "      <td>0.288991</td>\n",
       "    </tr>\n",
       "    <tr>\n",
       "      <td>130</td>\n",
       "      <td>1.103100</td>\n",
       "      <td>1.097570</td>\n",
       "      <td>0.502336</td>\n",
       "      <td>0.000000</td>\n",
       "      <td>0.288991</td>\n",
       "    </tr>\n",
       "    <tr>\n",
       "      <td>140</td>\n",
       "      <td>1.114400</td>\n",
       "      <td>1.097494</td>\n",
       "      <td>0.502336</td>\n",
       "      <td>0.000000</td>\n",
       "      <td>0.288991</td>\n",
       "    </tr>\n",
       "    <tr>\n",
       "      <td>150</td>\n",
       "      <td>1.103700</td>\n",
       "      <td>1.097430</td>\n",
       "      <td>0.502336</td>\n",
       "      <td>0.000000</td>\n",
       "      <td>0.288991</td>\n",
       "    </tr>\n",
       "    <tr>\n",
       "      <td>160</td>\n",
       "      <td>1.107800</td>\n",
       "      <td>1.097380</td>\n",
       "      <td>0.502336</td>\n",
       "      <td>0.000000</td>\n",
       "      <td>0.288991</td>\n",
       "    </tr>\n",
       "    <tr>\n",
       "      <td>170</td>\n",
       "      <td>1.105900</td>\n",
       "      <td>1.097330</td>\n",
       "      <td>0.502336</td>\n",
       "      <td>0.000000</td>\n",
       "      <td>0.288330</td>\n",
       "    </tr>\n",
       "    <tr>\n",
       "      <td>180</td>\n",
       "      <td>1.101600</td>\n",
       "      <td>1.097298</td>\n",
       "      <td>0.502336</td>\n",
       "      <td>0.000000</td>\n",
       "      <td>0.288330</td>\n",
       "    </tr>\n",
       "    <tr>\n",
       "      <td>190</td>\n",
       "      <td>1.105200</td>\n",
       "      <td>1.097260</td>\n",
       "      <td>0.502336</td>\n",
       "      <td>0.000000</td>\n",
       "      <td>0.288330</td>\n",
       "    </tr>\n",
       "    <tr>\n",
       "      <td>200</td>\n",
       "      <td>1.125700</td>\n",
       "      <td>1.097250</td>\n",
       "      <td>0.502336</td>\n",
       "      <td>0.000000</td>\n",
       "      <td>0.288330</td>\n",
       "    </tr>\n",
       "    <tr>\n",
       "      <td>210</td>\n",
       "      <td>1.106000</td>\n",
       "      <td>1.097234</td>\n",
       "      <td>0.502924</td>\n",
       "      <td>0.000000</td>\n",
       "      <td>0.292237</td>\n",
       "    </tr>\n",
       "    <tr>\n",
       "      <td>220</td>\n",
       "      <td>1.109300</td>\n",
       "      <td>1.097222</td>\n",
       "      <td>0.502924</td>\n",
       "      <td>0.000000</td>\n",
       "      <td>0.292237</td>\n",
       "    </tr>\n",
       "    <tr>\n",
       "      <td>230</td>\n",
       "      <td>1.109200</td>\n",
       "      <td>1.097216</td>\n",
       "      <td>0.502336</td>\n",
       "      <td>0.000000</td>\n",
       "      <td>0.288330</td>\n",
       "    </tr>\n",
       "    <tr>\n",
       "      <td>240</td>\n",
       "      <td>1.099000</td>\n",
       "      <td>1.097213</td>\n",
       "      <td>0.502336</td>\n",
       "      <td>0.000000</td>\n",
       "      <td>0.288330</td>\n",
       "    </tr>\n",
       "  </tbody>\n",
       "</table><p>"
      ],
      "text/plain": [
       "<IPython.core.display.HTML object>"
      ]
     },
     "metadata": {},
     "output_type": "display_data"
    },
    {
     "data": {
      "text/plain": [
       "TrainOutput(global_step=240, training_loss=1.1074812332789103, metrics={'train_runtime': 25.675, 'train_samples_per_second': 591.82, 'train_steps_per_second': 9.348, 'total_flos': 53698984128000.0, 'train_loss': 1.1074812332789103, 'epoch': 5.0})"
      ]
     },
     "execution_count": 9,
     "metadata": {},
     "output_type": "execute_result"
    }
   ],
   "source": [
    "trainer.train()"
   ]
  },
  {
   "cell_type": "markdown",
   "id": "705c8a13-806e-4a57-b9b0-04f32fbbfcad",
   "metadata": {
    "jp-MarkdownHeadingCollapsed": true,
    "tags": []
   },
   "source": [
    "## Evaluation/Weighting metric"
   ]
  },
  {
   "cell_type": "code",
   "execution_count": 21,
   "id": "b6784de2-cfd6-4a28-9f66-42b195c24c8c",
   "metadata": {},
   "outputs": [],
   "source": [
    "import optuna"
   ]
  },
  {
   "cell_type": "code",
   "execution_count": 9,
   "id": "4ef49fe6-2f21-4e88-96ac-d6ccc6c30c38",
   "metadata": {},
   "outputs": [],
   "source": [
    "def make_weighted_metric(p):\n",
    "    print(p)\n",
    "    global weights\n",
    "    pred, labels = p\n",
    "    if weights is None:\n",
    "        weights = np.ones(pred.shape[1])\n",
    "    pred = np.argmax(pred*weights, axis=1)\n",
    "\n",
    "    f1_scores = f1_score(y_true=labels, y_pred=pred, average=None)\n",
    "    final_score = np.mean(f1_scores[1:])\n",
    "    # return {\"custom F1 score\": final_score}\n",
    "    return {\n",
    "        \"F1 for class 0\": f1_scores[0],\n",
    "        \"F1 for class 1\": f1_scores[1],\n",
    "        \"F1 for class 2\": f1_scores[2]\n",
    "    }"
   ]
  },
  {
   "cell_type": "code",
   "execution_count": 23,
   "id": "8b5de273-3ab9-4b40-9e77-b8ebddea56a9",
   "metadata": {},
   "outputs": [],
   "source": [
    "def target_func(weight_1, weight_2, weight_3):\n",
    "    global weights\n",
    "    weights = np.array([weight_1, weight_2, weight_3])\n",
    "    trainer = Trainer(\n",
    "        model=model,\n",
    "        args=args,\n",
    "        train_dataset=train_set,\n",
    "        eval_dataset=val_set,\n",
    "        # compute_metrics=compute_metrics,\n",
    "        compute_metrics=make_weighted_metric,\n",
    "        callbacks=[EarlyStoppingCallback(early_stopping_patience=3)],\n",
    "    )\n",
    "    result = trainer.evaluate()\n",
    "    final_result = (result['eval_F1 for class 0'] + result['eval_F1 for class 2']) / 2\n",
    "    return final_result"
   ]
  },
  {
   "cell_type": "code",
   "execution_count": 24,
   "id": "c2c0f317-2478-4c5c-903b-9497beeca672",
   "metadata": {},
   "outputs": [],
   "source": [
    "def objective(trial):\n",
    "    weight_1 = trial.suggest_float(\"weight_1\", -2, 2)\n",
    "    weight_2 = trial.suggest_float(\"weight_2\", -2, 2)\n",
    "    weight_3 = trial.suggest_float(\"weight_3\", -2, 2)\n",
    "    \n",
    "    result = target_func(weight_1, weight_2, weight_3)\n",
    "    \n",
    "    return result"
   ]
  },
  {
   "cell_type": "code",
   "execution_count": 25,
   "id": "68327606-dad6-436a-aa4c-9fea9480b2e3",
   "metadata": {
    "scrolled": true,
    "tags": []
   },
   "outputs": [
    {
     "name": "stderr",
     "output_type": "stream",
     "text": [
      "\u001b[32m[I 2023-05-22 03:48:29,533]\u001b[0m A new study created in memory with name: no-name-2fb1bd0d-6119-4a94-9e13-0b4f43885d6a\u001b[0m\n"
     ]
    },
    {
     "data": {
      "text/html": [
       "\n",
       "    <div>\n",
       "      \n",
       "      <progress value='30' max='30' style='width:300px; height:20px; vertical-align: middle;'></progress>\n",
       "      [30/30 00:08]\n",
       "    </div>\n",
       "    "
      ],
      "text/plain": [
       "<IPython.core.display.HTML object>"
      ]
     },
     "metadata": {},
     "output_type": "display_data"
    },
    {
     "name": "stderr",
     "output_type": "stream",
     "text": [
      "\u001b[32m[I 2023-05-22 03:48:38,311]\u001b[0m Trial 0 finished with value: 0.20504201977525868 and parameters: {'weight_1': 1.560514276957245, 'weight_2': -0.42061527092436624, 'weight_3': 0.4874061414526829}. Best is trial 0 with value: 0.20504201977525868.\u001b[0m\n"
     ]
    },
    {
     "name": "stdout",
     "output_type": "stream",
     "text": [
      "<transformers.trainer_utils.EvalPrediction object at 0x7fa76e987d30>\n"
     ]
    },
    {
     "data": {
      "text/html": [
       "\n",
       "    <div>\n",
       "      \n",
       "      <progress value='30' max='30' style='width:300px; height:20px; vertical-align: middle;'></progress>\n",
       "      [30/30 00:08]\n",
       "    </div>\n",
       "    "
      ],
      "text/plain": [
       "<IPython.core.display.HTML object>"
      ]
     },
     "metadata": {},
     "output_type": "display_data"
    },
    {
     "name": "stderr",
     "output_type": "stream",
     "text": [
      "\u001b[32m[I 2023-05-22 03:48:47,084]\u001b[0m Trial 1 finished with value: 0.21334341756143527 and parameters: {'weight_1': 0.9872987810231306, 'weight_2': -1.3463606922548554, 'weight_3': 0.682578142523496}. Best is trial 1 with value: 0.21334341756143527.\u001b[0m\n"
     ]
    },
    {
     "name": "stdout",
     "output_type": "stream",
     "text": [
      "<transformers.trainer_utils.EvalPrediction object at 0x7fa76e822920>\n"
     ]
    },
    {
     "data": {
      "text/html": [
       "\n",
       "    <div>\n",
       "      \n",
       "      <progress value='30' max='30' style='width:300px; height:20px; vertical-align: middle;'></progress>\n",
       "      [30/30 00:08]\n",
       "    </div>\n",
       "    "
      ],
      "text/plain": [
       "<IPython.core.display.HTML object>"
      ]
     },
     "metadata": {},
     "output_type": "display_data"
    },
    {
     "name": "stderr",
     "output_type": "stream",
     "text": [
      "\u001b[32m[I 2023-05-22 03:48:55,898]\u001b[0m Trial 2 finished with value: 0.0038610038610038607 and parameters: {'weight_1': 1.3246676104209576, 'weight_2': 0.5358094500508188, 'weight_3': -0.49028174283333525}. Best is trial 1 with value: 0.21334341756143527.\u001b[0m\n"
     ]
    },
    {
     "name": "stdout",
     "output_type": "stream",
     "text": [
      "<transformers.trainer_utils.EvalPrediction object at 0x7fa76e84b6a0>\n"
     ]
    },
    {
     "data": {
      "text/html": [
       "\n",
       "    <div>\n",
       "      \n",
       "      <progress value='30' max='30' style='width:300px; height:20px; vertical-align: middle;'></progress>\n",
       "      [30/30 00:08]\n",
       "    </div>\n",
       "    "
      ],
      "text/plain": [
       "<IPython.core.display.HTML object>"
      ]
     },
     "metadata": {},
     "output_type": "display_data"
    },
    {
     "name": "stderr",
     "output_type": "stream",
     "text": [
      "\u001b[32m[I 2023-05-22 03:49:04,741]\u001b[0m Trial 3 finished with value: 0.11282771535580524 and parameters: {'weight_1': 0.05170723996892024, 'weight_2': -1.2736860389793585, 'weight_3': -1.2602380075915987}. Best is trial 1 with value: 0.21334341756143527.\u001b[0m\n"
     ]
    },
    {
     "name": "stdout",
     "output_type": "stream",
     "text": [
      "<transformers.trainer_utils.EvalPrediction object at 0x7fa76e9848e0>\n"
     ]
    },
    {
     "data": {
      "text/html": [
       "\n",
       "    <div>\n",
       "      \n",
       "      <progress value='30' max='30' style='width:300px; height:20px; vertical-align: middle;'></progress>\n",
       "      [30/30 00:08]\n",
       "    </div>\n",
       "    "
      ],
      "text/plain": [
       "<IPython.core.display.HTML object>"
      ]
     },
     "metadata": {},
     "output_type": "display_data"
    },
    {
     "name": "stderr",
     "output_type": "stream",
     "text": [
      "\u001b[32m[I 2023-05-22 03:49:13,614]\u001b[0m Trial 4 finished with value: 0.1078167115902965 and parameters: {'weight_1': -0.9351490672631257, 'weight_2': 0.44225389646905544, 'weight_3': 1.0471887215139453}. Best is trial 1 with value: 0.21334341756143527.\u001b[0m\n"
     ]
    },
    {
     "name": "stdout",
     "output_type": "stream",
     "text": [
      "<transformers.trainer_utils.EvalPrediction object at 0x7fa76e9e86d0>\n"
     ]
    },
    {
     "data": {
      "text/html": [
       "\n",
       "    <div>\n",
       "      \n",
       "      <progress value='30' max='30' style='width:300px; height:20px; vertical-align: middle;'></progress>\n",
       "      [30/30 00:08]\n",
       "    </div>\n",
       "    "
      ],
      "text/plain": [
       "<IPython.core.display.HTML object>"
      ]
     },
     "metadata": {},
     "output_type": "display_data"
    },
    {
     "name": "stderr",
     "output_type": "stream",
     "text": [
      "\u001b[32m[I 2023-05-22 03:49:22,512]\u001b[0m Trial 5 finished with value: 0.11272217025257251 and parameters: {'weight_1': 0.2759157201089999, 'weight_2': -1.9112695889611064, 'weight_3': -1.4883462266003327}. Best is trial 1 with value: 0.21334341756143527.\u001b[0m\n"
     ]
    },
    {
     "name": "stdout",
     "output_type": "stream",
     "text": [
      "<transformers.trainer_utils.EvalPrediction object at 0x7fa76e9eb0d0>\n"
     ]
    },
    {
     "data": {
      "text/html": [
       "\n",
       "    <div>\n",
       "      \n",
       "      <progress value='30' max='30' style='width:300px; height:20px; vertical-align: middle;'></progress>\n",
       "      [30/30 00:08]\n",
       "    </div>\n",
       "    "
      ],
      "text/plain": [
       "<IPython.core.display.HTML object>"
      ]
     },
     "metadata": {},
     "output_type": "display_data"
    },
    {
     "name": "stderr",
     "output_type": "stream",
     "text": [
      "\u001b[32m[I 2023-05-22 03:49:31,430]\u001b[0m Trial 6 finished with value: 0.20954525878692826 and parameters: {'weight_1': 1.3247321130215535, 'weight_2': -0.6398605957804326, 'weight_3': 0.9491359834632243}. Best is trial 1 with value: 0.21334341756143527.\u001b[0m\n"
     ]
    },
    {
     "name": "stdout",
     "output_type": "stream",
     "text": [
      "<transformers.trainer_utils.EvalPrediction object at 0x7fa76e9eb100>\n"
     ]
    },
    {
     "data": {
      "text/html": [
       "\n",
       "    <div>\n",
       "      \n",
       "      <progress value='30' max='30' style='width:300px; height:20px; vertical-align: middle;'></progress>\n",
       "      [30/30 00:08]\n",
       "    </div>\n",
       "    "
      ],
      "text/plain": [
       "<IPython.core.display.HTML object>"
      ]
     },
     "metadata": {},
     "output_type": "display_data"
    },
    {
     "name": "stderr",
     "output_type": "stream",
     "text": [
      "\u001b[32m[I 2023-05-22 03:49:40,358]\u001b[0m Trial 7 finished with value: 0.1322654462242563 and parameters: {'weight_1': -1.443961239520637, 'weight_2': -0.3510315269835509, 'weight_3': 0.2862898831842813}. Best is trial 1 with value: 0.21334341756143527.\u001b[0m\n"
     ]
    },
    {
     "name": "stdout",
     "output_type": "stream",
     "text": [
      "<transformers.trainer_utils.EvalPrediction object at 0x7fa76e85a8f0>\n"
     ]
    },
    {
     "data": {
      "text/html": [
       "\n",
       "    <div>\n",
       "      \n",
       "      <progress value='30' max='30' style='width:300px; height:20px; vertical-align: middle;'></progress>\n",
       "      [30/30 00:08]\n",
       "    </div>\n",
       "    "
      ],
      "text/plain": [
       "<IPython.core.display.HTML object>"
      ]
     },
     "metadata": {},
     "output_type": "display_data"
    },
    {
     "name": "stderr",
     "output_type": "stream",
     "text": [
      "\u001b[32m[I 2023-05-22 03:49:49,285]\u001b[0m Trial 8 finished with value: 0.0 and parameters: {'weight_1': -0.8899724291112228, 'weight_2': 1.8538073243121884, 'weight_3': 0.9806538304787322}. Best is trial 1 with value: 0.21334341756143527.\u001b[0m\n"
     ]
    },
    {
     "name": "stdout",
     "output_type": "stream",
     "text": [
      "<transformers.trainer_utils.EvalPrediction object at 0x7fa76e85be50>\n"
     ]
    },
    {
     "data": {
      "text/html": [
       "\n",
       "    <div>\n",
       "      \n",
       "      <progress value='30' max='30' style='width:300px; height:20px; vertical-align: middle;'></progress>\n",
       "      [30/30 00:08]\n",
       "    </div>\n",
       "    "
      ],
      "text/plain": [
       "<IPython.core.display.HTML object>"
      ]
     },
     "metadata": {},
     "output_type": "display_data"
    },
    {
     "name": "stderr",
     "output_type": "stream",
     "text": [
      "\u001b[32m[I 2023-05-22 03:49:58,218]\u001b[0m Trial 9 finished with value: 0.0 and parameters: {'weight_1': -0.39000972819742863, 'weight_2': 0.8585255366709386, 'weight_3': -0.16642060878538567}. Best is trial 1 with value: 0.21334341756143527.\u001b[0m\n"
     ]
    },
    {
     "name": "stdout",
     "output_type": "stream",
     "text": [
      "<transformers.trainer_utils.EvalPrediction object at 0x7fa76e85ae90>\n"
     ]
    },
    {
     "data": {
      "text/html": [
       "\n",
       "    <div>\n",
       "      \n",
       "      <progress value='30' max='30' style='width:300px; height:20px; vertical-align: middle;'></progress>\n",
       "      [30/30 00:08]\n",
       "    </div>\n",
       "    "
      ],
      "text/plain": [
       "<IPython.core.display.HTML object>"
      ]
     },
     "metadata": {},
     "output_type": "display_data"
    },
    {
     "name": "stderr",
     "output_type": "stream",
     "text": [
      "\u001b[32m[I 2023-05-22 03:50:07,171]\u001b[0m Trial 10 finished with value: 0.20168548310882034 and parameters: {'weight_1': 1.8816182509669308, 'weight_2': -1.9774974496204334, 'weight_3': 1.5252136372094982}. Best is trial 1 with value: 0.21334341756143527.\u001b[0m\n"
     ]
    },
    {
     "name": "stdout",
     "output_type": "stream",
     "text": [
      "<transformers.trainer_utils.EvalPrediction object at 0x7fa76e85fe50>\n"
     ]
    },
    {
     "data": {
      "text/html": [
       "\n",
       "    <div>\n",
       "      \n",
       "      <progress value='30' max='30' style='width:300px; height:20px; vertical-align: middle;'></progress>\n",
       "      [30/30 00:08]\n",
       "    </div>\n",
       "    "
      ],
      "text/plain": [
       "<IPython.core.display.HTML object>"
      ]
     },
     "metadata": {},
     "output_type": "display_data"
    },
    {
     "name": "stderr",
     "output_type": "stream",
     "text": [
      "\u001b[32m[I 2023-05-22 03:50:16,120]\u001b[0m Trial 11 finished with value: 0.1499558717338397 and parameters: {'weight_1': 0.8505881199911266, 'weight_2': -0.9713049116232728, 'weight_3': 1.6612024321044296}. Best is trial 1 with value: 0.21334341756143527.\u001b[0m\n"
     ]
    },
    {
     "name": "stdout",
     "output_type": "stream",
     "text": [
      "<transformers.trainer_utils.EvalPrediction object at 0x7fa76e876b90>\n"
     ]
    },
    {
     "data": {
      "text/html": [
       "\n",
       "    <div>\n",
       "      \n",
       "      <progress value='30' max='30' style='width:300px; height:20px; vertical-align: middle;'></progress>\n",
       "      [30/30 00:08]\n",
       "    </div>\n",
       "    "
      ],
      "text/plain": [
       "<IPython.core.display.HTML object>"
      ]
     },
     "metadata": {},
     "output_type": "display_data"
    },
    {
     "name": "stderr",
     "output_type": "stream",
     "text": [
      "\u001b[32m[I 2023-05-22 03:50:25,075]\u001b[0m Trial 12 finished with value: 0.20217819764426384 and parameters: {'weight_1': 0.9275776602228093, 'weight_2': -1.1104460005002943, 'weight_3': 0.76009943273966}. Best is trial 1 with value: 0.21334341756143527.\u001b[0m\n"
     ]
    },
    {
     "name": "stdout",
     "output_type": "stream",
     "text": [
      "<transformers.trainer_utils.EvalPrediction object at 0x7fa76e877610>\n"
     ]
    },
    {
     "data": {
      "text/html": [
       "\n",
       "    <div>\n",
       "      \n",
       "      <progress value='30' max='30' style='width:300px; height:20px; vertical-align: middle;'></progress>\n",
       "      [30/30 00:08]\n",
       "    </div>\n",
       "    "
      ],
      "text/plain": [
       "<IPython.core.display.HTML object>"
      ]
     },
     "metadata": {},
     "output_type": "display_data"
    },
    {
     "name": "stderr",
     "output_type": "stream",
     "text": [
      "\u001b[32m[I 2023-05-22 03:50:34,031]\u001b[0m Trial 13 finished with value: 0.14345971834790425 and parameters: {'weight_1': 0.7340514736003094, 'weight_2': -0.690394488303848, 'weight_3': 1.8227729653403717}. Best is trial 1 with value: 0.21334341756143527.\u001b[0m\n"
     ]
    },
    {
     "name": "stdout",
     "output_type": "stream",
     "text": [
      "<transformers.trainer_utils.EvalPrediction object at 0x7fa76e87ffd0>\n"
     ]
    },
    {
     "data": {
      "text/html": [
       "\n",
       "    <div>\n",
       "      \n",
       "      <progress value='30' max='30' style='width:300px; height:20px; vertical-align: middle;'></progress>\n",
       "      [30/30 00:08]\n",
       "    </div>\n",
       "    "
      ],
      "text/plain": [
       "<IPython.core.display.HTML object>"
      ]
     },
     "metadata": {},
     "output_type": "display_data"
    },
    {
     "name": "stderr",
     "output_type": "stream",
     "text": [
      "\u001b[32m[I 2023-05-22 03:50:42,987]\u001b[0m Trial 14 finished with value: 0.22197819039778516 and parameters: {'weight_1': 1.961935321172531, 'weight_2': -1.4120197810472268, 'weight_3': 1.1845282672037976}. Best is trial 14 with value: 0.22197819039778516.\u001b[0m\n"
     ]
    },
    {
     "name": "stdout",
     "output_type": "stream",
     "text": [
      "<transformers.trainer_utils.EvalPrediction object at 0x7fa76e88a9b0>\n"
     ]
    },
    {
     "data": {
      "text/html": [
       "\n",
       "    <div>\n",
       "      \n",
       "      <progress value='30' max='30' style='width:300px; height:20px; vertical-align: middle;'></progress>\n",
       "      [30/30 00:08]\n",
       "    </div>\n",
       "    "
      ],
      "text/plain": [
       "<IPython.core.display.HTML object>"
      ]
     },
     "metadata": {},
     "output_type": "display_data"
    },
    {
     "name": "stderr",
     "output_type": "stream",
     "text": [
      "\u001b[32m[I 2023-05-22 03:50:51,954]\u001b[0m Trial 15 finished with value: 0.1849345317699748 and parameters: {'weight_1': 1.8220366665626668, 'weight_2': -1.5121598935204073, 'weight_3': 1.9918823572958786}. Best is trial 14 with value: 0.22197819039778516.\u001b[0m\n"
     ]
    },
    {
     "name": "stdout",
     "output_type": "stream",
     "text": [
      "<transformers.trainer_utils.EvalPrediction object at 0x7fa76e88b430>\n"
     ]
    },
    {
     "data": {
      "text/html": [
       "\n",
       "    <div>\n",
       "      \n",
       "      <progress value='30' max='30' style='width:300px; height:20px; vertical-align: middle;'></progress>\n",
       "      [30/30 00:08]\n",
       "    </div>\n",
       "    "
      ],
      "text/plain": [
       "<IPython.core.display.HTML object>"
      ]
     },
     "metadata": {},
     "output_type": "display_data"
    },
    {
     "name": "stderr",
     "output_type": "stream",
     "text": [
      "\u001b[32m[I 2023-05-22 03:51:00,925]\u001b[0m Trial 16 finished with value: 0.19989963428382873 and parameters: {'weight_1': 1.752437759043925, 'weight_2': -1.4734755760315172, 'weight_3': 1.3475769023652944}. Best is trial 14 with value: 0.22197819039778516.\u001b[0m\n"
     ]
    },
    {
     "name": "stdout",
     "output_type": "stream",
     "text": [
      "<transformers.trainer_utils.EvalPrediction object at 0x7fa76e897c70>\n"
     ]
    },
    {
     "data": {
      "text/html": [
       "\n",
       "    <div>\n",
       "      \n",
       "      <progress value='30' max='30' style='width:300px; height:20px; vertical-align: middle;'></progress>\n",
       "      [30/30 00:08]\n",
       "    </div>\n",
       "    "
      ],
      "text/plain": [
       "<IPython.core.display.HTML object>"
      ]
     },
     "metadata": {},
     "output_type": "display_data"
    },
    {
     "name": "stderr",
     "output_type": "stream",
     "text": [
      "\u001b[32m[I 2023-05-22 03:51:09,894]\u001b[0m Trial 17 finished with value: 0.16559837783402737 and parameters: {'weight_1': 1.963400752626237, 'weight_2': -1.5590402600212765, 'weight_3': 0.39372972988527954}. Best is trial 14 with value: 0.22197819039778516.\u001b[0m\n"
     ]
    },
    {
     "name": "stdout",
     "output_type": "stream",
     "text": [
      "<transformers.trainer_utils.EvalPrediction object at 0x7fa76e89e5f0>\n"
     ]
    },
    {
     "data": {
      "text/html": [
       "\n",
       "    <div>\n",
       "      \n",
       "      <progress value='30' max='30' style='width:300px; height:20px; vertical-align: middle;'></progress>\n",
       "      [30/30 00:08]\n",
       "    </div>\n",
       "    "
      ],
      "text/plain": [
       "<IPython.core.display.HTML object>"
      ]
     },
     "metadata": {},
     "output_type": "display_data"
    },
    {
     "name": "stderr",
     "output_type": "stream",
     "text": [
      "\u001b[32m[I 2023-05-22 03:51:18,865]\u001b[0m Trial 18 finished with value: 0.18488131158811394 and parameters: {'weight_1': 1.2218633331493178, 'weight_2': -0.8890155863585003, 'weight_3': 1.2639979050327352}. Best is trial 14 with value: 0.22197819039778516.\u001b[0m\n"
     ]
    },
    {
     "name": "stdout",
     "output_type": "stream",
     "text": [
      "<transformers.trainer_utils.EvalPrediction object at 0x7fa76e89ebc0>\n"
     ]
    },
    {
     "data": {
      "text/html": [
       "\n",
       "    <div>\n",
       "      \n",
       "      <progress value='30' max='30' style='width:300px; height:20px; vertical-align: middle;'></progress>\n",
       "      [30/30 00:08]\n",
       "    </div>\n",
       "    "
      ],
      "text/plain": [
       "<IPython.core.display.HTML object>"
      ]
     },
     "metadata": {},
     "output_type": "display_data"
    },
    {
     "name": "stderr",
     "output_type": "stream",
     "text": [
      "\u001b[32m[I 2023-05-22 03:51:27,843]\u001b[0m Trial 19 finished with value: 0.1754933596619026 and parameters: {'weight_1': 0.47407677453205077, 'weight_2': -1.1854946342372867, 'weight_3': 0.6797353983517576}. Best is trial 14 with value: 0.22197819039778516.\u001b[0m\n"
     ]
    },
    {
     "name": "stdout",
     "output_type": "stream",
     "text": [
      "<transformers.trainer_utils.EvalPrediction object at 0x7fa76e8a78b0>\n"
     ]
    },
    {
     "data": {
      "text/html": [
       "\n",
       "    <div>\n",
       "      \n",
       "      <progress value='30' max='30' style='width:300px; height:20px; vertical-align: middle;'></progress>\n",
       "      [30/30 00:08]\n",
       "    </div>\n",
       "    "
      ],
      "text/plain": [
       "<IPython.core.display.HTML object>"
      ]
     },
     "metadata": {},
     "output_type": "display_data"
    },
    {
     "name": "stderr",
     "output_type": "stream",
     "text": [
      "\u001b[32m[I 2023-05-22 03:51:36,824]\u001b[0m Trial 20 finished with value: 0.1344914040114613 and parameters: {'weight_1': 1.1298533389677186, 'weight_2': -0.25239884481654196, 'weight_3': 0.10210958559670313}. Best is trial 14 with value: 0.22197819039778516.\u001b[0m\n"
     ]
    },
    {
     "name": "stdout",
     "output_type": "stream",
     "text": [
      "<transformers.trainer_utils.EvalPrediction object at 0x7fa76e8a7eb0>\n"
     ]
    },
    {
     "data": {
      "text/html": [
       "\n",
       "    <div>\n",
       "      \n",
       "      <progress value='30' max='30' style='width:300px; height:20px; vertical-align: middle;'></progress>\n",
       "      [30/30 00:08]\n",
       "    </div>\n",
       "    "
      ],
      "text/plain": [
       "<IPython.core.display.HTML object>"
      ]
     },
     "metadata": {},
     "output_type": "display_data"
    },
    {
     "name": "stderr",
     "output_type": "stream",
     "text": [
      "\u001b[32m[I 2023-05-22 03:51:45,803]\u001b[0m Trial 21 finished with value: 0.2191527349456257 and parameters: {'weight_1': 1.4900047982777505, 'weight_2': -0.7792770958583679, 'weight_3': 0.9323671024010111}. Best is trial 14 with value: 0.22197819039778516.\u001b[0m\n"
     ]
    },
    {
     "name": "stdout",
     "output_type": "stream",
     "text": [
      "<transformers.trainer_utils.EvalPrediction object at 0x7fa76e85b0a0>\n"
     ]
    },
    {
     "data": {
      "text/html": [
       "\n",
       "    <div>\n",
       "      \n",
       "      <progress value='30' max='30' style='width:300px; height:20px; vertical-align: middle;'></progress>\n",
       "      [30/30 00:08]\n",
       "    </div>\n",
       "    "
      ],
      "text/plain": [
       "<IPython.core.display.HTML object>"
      ]
     },
     "metadata": {},
     "output_type": "display_data"
    },
    {
     "name": "stderr",
     "output_type": "stream",
     "text": [
      "\u001b[32m[I 2023-05-22 03:51:54,788]\u001b[0m Trial 22 finished with value: 0.19482445153731165 and parameters: {'weight_1': 1.4919879979026105, 'weight_2': -0.7696215594222678, 'weight_3': 1.2984346762129184}. Best is trial 14 with value: 0.22197819039778516.\u001b[0m\n"
     ]
    },
    {
     "name": "stdout",
     "output_type": "stream",
     "text": [
      "<transformers.trainer_utils.EvalPrediction object at 0x7fa76e849540>\n"
     ]
    },
    {
     "data": {
      "text/html": [
       "\n",
       "    <div>\n",
       "      \n",
       "      <progress value='30' max='30' style='width:300px; height:20px; vertical-align: middle;'></progress>\n",
       "      [30/30 00:08]\n",
       "    </div>\n",
       "    "
      ],
      "text/plain": [
       "<IPython.core.display.HTML object>"
      ]
     },
     "metadata": {},
     "output_type": "display_data"
    },
    {
     "name": "stderr",
     "output_type": "stream",
     "text": [
      "\u001b[32m[I 2023-05-22 03:52:03,771]\u001b[0m Trial 23 finished with value: 0.2220263993684713 and parameters: {'weight_1': 1.5862563816370794, 'weight_2': -1.6200352403401386, 'weight_3': 0.6035740969670578}. Best is trial 23 with value: 0.2220263993684713.\u001b[0m\n"
     ]
    },
    {
     "name": "stdout",
     "output_type": "stream",
     "text": [
      "<transformers.trainer_utils.EvalPrediction object at 0x7fa7858c3ac0>\n"
     ]
    },
    {
     "data": {
      "text/html": [
       "\n",
       "    <div>\n",
       "      \n",
       "      <progress value='30' max='30' style='width:300px; height:20px; vertical-align: middle;'></progress>\n",
       "      [30/30 00:08]\n",
       "    </div>\n",
       "    "
      ],
      "text/plain": [
       "<IPython.core.display.HTML object>"
      ]
     },
     "metadata": {},
     "output_type": "display_data"
    },
    {
     "name": "stderr",
     "output_type": "stream",
     "text": [
      "\u001b[32m[I 2023-05-22 03:52:12,754]\u001b[0m Trial 24 finished with value: 0.18458033267478172 and parameters: {'weight_1': 1.579625251739651, 'weight_2': -1.6744333497510402, 'weight_3': 1.5729013155714036}. Best is trial 23 with value: 0.2220263993684713.\u001b[0m\n"
     ]
    },
    {
     "name": "stdout",
     "output_type": "stream",
     "text": [
      "<transformers.trainer_utils.EvalPrediction object at 0x7fa76e843cd0>\n"
     ]
    },
    {
     "data": {
      "text/html": [
       "\n",
       "    <div>\n",
       "      \n",
       "      <progress value='30' max='30' style='width:300px; height:20px; vertical-align: middle;'></progress>\n",
       "      [30/30 00:08]\n",
       "    </div>\n",
       "    "
      ],
      "text/plain": [
       "<IPython.core.display.HTML object>"
      ]
     },
     "metadata": {},
     "output_type": "display_data"
    },
    {
     "name": "stderr",
     "output_type": "stream",
     "text": [
      "\u001b[32m[I 2023-05-22 03:52:21,737]\u001b[0m Trial 25 finished with value: 0.2282650215821842 and parameters: {'weight_1': 1.9906145650307194, 'weight_2': -1.6774854135401194, 'weight_3': 1.1048117531000665}. Best is trial 25 with value: 0.2282650215821842.\u001b[0m\n"
     ]
    },
    {
     "name": "stdout",
     "output_type": "stream",
     "text": [
      "<transformers.trainer_utils.EvalPrediction object at 0x7fa7858c0d30>\n"
     ]
    },
    {
     "data": {
      "text/html": [
       "\n",
       "    <div>\n",
       "      \n",
       "      <progress value='30' max='30' style='width:300px; height:20px; vertical-align: middle;'></progress>\n",
       "      [30/30 00:08]\n",
       "    </div>\n",
       "    "
      ],
      "text/plain": [
       "<IPython.core.display.HTML object>"
      ]
     },
     "metadata": {},
     "output_type": "display_data"
    },
    {
     "name": "stderr",
     "output_type": "stream",
     "text": [
      "\u001b[32m[I 2023-05-22 03:52:30,729]\u001b[0m Trial 26 finished with value: 0.22364072871063406 and parameters: {'weight_1': 1.937541131836139, 'weight_2': -1.9942176913111846, 'weight_3': 1.1790089211647372}. Best is trial 25 with value: 0.2282650215821842.\u001b[0m\n"
     ]
    },
    {
     "name": "stdout",
     "output_type": "stream",
     "text": [
      "<transformers.trainer_utils.EvalPrediction object at 0x7fa76e840e20>\n"
     ]
    },
    {
     "data": {
      "text/html": [
       "\n",
       "    <div>\n",
       "      \n",
       "      <progress value='30' max='30' style='width:300px; height:20px; vertical-align: middle;'></progress>\n",
       "      [30/30 00:08]\n",
       "    </div>\n",
       "    "
      ],
      "text/plain": [
       "<IPython.core.display.HTML object>"
      ]
     },
     "metadata": {},
     "output_type": "display_data"
    },
    {
     "name": "stderr",
     "output_type": "stream",
     "text": [
      "\u001b[32m[I 2023-05-22 03:52:39,716]\u001b[0m Trial 27 finished with value: 0.20571888844140154 and parameters: {'weight_1': 1.6548823139576028, 'weight_2': -1.784740711923443, 'weight_3': 1.5090831246772776}. Best is trial 25 with value: 0.2282650215821842.\u001b[0m\n"
     ]
    },
    {
     "name": "stdout",
     "output_type": "stream",
     "text": [
      "<transformers.trainer_utils.EvalPrediction object at 0x7fa785618b20>\n"
     ]
    },
    {
     "data": {
      "text/html": [
       "\n",
       "    <div>\n",
       "      \n",
       "      <progress value='30' max='30' style='width:300px; height:20px; vertical-align: middle;'></progress>\n",
       "      [30/30 00:08]\n",
       "    </div>\n",
       "    "
      ],
      "text/plain": [
       "<IPython.core.display.HTML object>"
      ]
     },
     "metadata": {},
     "output_type": "display_data"
    },
    {
     "name": "stderr",
     "output_type": "stream",
     "text": [
      "\u001b[32m[I 2023-05-22 03:52:48,712]\u001b[0m Trial 28 finished with value: 0.2004914369113589 and parameters: {'weight_1': 1.977153997287923, 'weight_2': -1.964433210353744, 'weight_3': 0.5259350753880117}. Best is trial 25 with value: 0.2282650215821842.\u001b[0m\n"
     ]
    },
    {
     "name": "stdout",
     "output_type": "stream",
     "text": [
      "<transformers.trainer_utils.EvalPrediction object at 0x7fa76e9ebe20>\n"
     ]
    },
    {
     "data": {
      "text/html": [
       "\n",
       "    <div>\n",
       "      \n",
       "      <progress value='30' max='30' style='width:300px; height:20px; vertical-align: middle;'></progress>\n",
       "      [30/30 00:08]\n",
       "    </div>\n",
       "    "
      ],
      "text/plain": [
       "<IPython.core.display.HTML object>"
      ]
     },
     "metadata": {},
     "output_type": "display_data"
    },
    {
     "name": "stderr",
     "output_type": "stream",
     "text": [
      "\u001b[32m[I 2023-05-22 03:52:57,700]\u001b[0m Trial 29 finished with value: 0.20807572635066876 and parameters: {'weight_1': 1.508428238905993, 'weight_2': -1.6876723924401622, 'weight_3': 0.5050462619366317}. Best is trial 25 with value: 0.2282650215821842.\u001b[0m\n"
     ]
    },
    {
     "name": "stdout",
     "output_type": "stream",
     "text": [
      "<transformers.trainer_utils.EvalPrediction object at 0x7fa7858c3be0>\n"
     ]
    }
   ],
   "source": [
    "study = optuna.create_study(directions=[\"maximize\"])\n",
    "study.optimize(objective, n_trials=30, timeout=300)"
   ]
  },
  {
   "cell_type": "markdown",
   "id": "bafcacdb-b85a-46f9-813b-1963053ea55e",
   "metadata": {},
   "source": [
    "## prediction"
   ]
  },
  {
   "cell_type": "code",
   "execution_count": null,
   "id": "adf81835-b4de-4146-9505-b088864b2d24",
   "metadata": {},
   "outputs": [],
   "source": [
    "# coming soon"
   ]
  }
 ],
 "metadata": {
  "kernelspec": {
   "display_name": "Python 3 (ipykernel)",
   "language": "python",
   "name": "python3"
  },
  "language_info": {
   "codemirror_mode": {
    "name": "ipython",
    "version": 3
   },
   "file_extension": ".py",
   "mimetype": "text/x-python",
   "name": "python",
   "nbconvert_exporter": "python",
   "pygments_lexer": "ipython3",
   "version": "3.10.11"
  }
 },
 "nbformat": 4,
 "nbformat_minor": 5
}
