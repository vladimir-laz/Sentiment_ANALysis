{
 "cells": [
  {
   "cell_type": "markdown",
   "id": "d2f43258-33cc-444e-ad3f-532c376e278b",
   "metadata": {},
   "source": [
    "# Imports"
   ]
  },
  {
   "cell_type": "code",
   "execution_count": 1,
   "id": "e3863407-6d96-42dd-b61e-cf732b329b7d",
   "metadata": {},
   "outputs": [],
   "source": [
    "# <your imports>\n",
    "import torch\n",
    "from torch.optim import Adam\n",
    "import torch.nn as nn\n",
    "from tqdm import tqdm\n",
    "from omegaconf import OmegaConf\n",
    "from preprocessing import Preprocessing\n",
    "from trainer import Trainer\n",
    "\n",
    "# models\n",
    "from models import BertClassifier"
   ]
  },
  {
   "cell_type": "markdown",
   "id": "f3bcbd38-0667-4f85-b469-a21c325c2c78",
   "metadata": {},
   "source": [
    "# Data loading/preprocessing"
   ]
  },
  {
   "cell_type": "code",
   "execution_count": 2,
   "id": "753f1dfd-f326-4c7c-89f6-f6fc6a0ca4a5",
   "metadata": {},
   "outputs": [],
   "source": [
    "preprocessor = Preprocessing()\n",
    "\n",
    "result = preprocessor.get_dataloaders()\n",
    "\n",
    "train_dl = result[\"train_dl\"]\n",
    "val_dl = result[\"val_dl\"]"
   ]
  },
  {
   "cell_type": "markdown",
   "id": "2cea22ad-5730-4238-9058-5cd58a6905c3",
   "metadata": {},
   "source": [
    "# Model initialization"
   ]
  },
  {
   "cell_type": "code",
   "execution_count": 4,
   "id": "99de0993",
   "metadata": {},
   "outputs": [
    {
     "name": "stderr",
     "output_type": "stream",
     "text": [
      "Some weights of the model checkpoint at bert-base-uncased were not used when initializing BertForSequenceClassification: ['cls.seq_relationship.weight', 'cls.predictions.transform.LayerNorm.bias', 'cls.predictions.bias', 'cls.predictions.transform.dense.weight', 'cls.predictions.transform.dense.bias', 'cls.predictions.decoder.weight', 'cls.predictions.transform.LayerNorm.weight', 'cls.seq_relationship.bias']\n",
      "- This IS expected if you are initializing BertForSequenceClassification from the checkpoint of a model trained on another task or with another architecture (e.g. initializing a BertForSequenceClassification model from a BertForPreTraining model).\n",
      "- This IS NOT expected if you are initializing BertForSequenceClassification from the checkpoint of a model that you expect to be exactly identical (initializing a BertForSequenceClassification model from a BertForSequenceClassification model).\n",
      "Some weights of BertForSequenceClassification were not initialized from the model checkpoint at bert-base-uncased and are newly initialized: ['classifier.bias', 'classifier.weight']\n",
      "You should probably TRAIN this model on a down-stream task to be able to use it for predictions and inference.\n"
     ]
    },
    {
     "name": "stdout",
     "output_type": "stream",
     "text": [
      "Initialized training config with params: {'dataset_name': 'ruSentNE', 'batch_size': 2, 'device': 'cpu:0', 'dataloader_shuffle': True, 'pretrained_model': 'bert-base-uncased', 'num_classes': 3, 'num_workers': 1, 'lr': 1e-06, 'epochs': 5, 'eps': 1e-08, 'optimizer': 'AdamW', 'scheduler': None}\n"
     ]
    }
   ],
   "source": [
    "trainer = Trainer()"
   ]
  },
  {
   "cell_type": "markdown",
   "id": "d0fdb569",
   "metadata": {},
   "source": [
    "## Train loop"
   ]
  },
  {
   "cell_type": "code",
   "execution_count": null,
   "id": "63145e4b",
   "metadata": {},
   "outputs": [],
   "source": [
    "trainer.train(train_dl, val_dl)"
   ]
  },
  {
   "cell_type": "markdown",
   "id": "cc8b419b-918f-4a63-ae24-789ca309bca2",
   "metadata": {},
   "source": [
    "# Experiments"
   ]
  },
  {
   "cell_type": "code",
   "execution_count": null,
   "id": "6c157342",
   "metadata": {},
   "outputs": [],
   "source": []
  }
 ],
 "metadata": {
  "kernelspec": {
   "display_name": "Python 3 (ipykernel)",
   "language": "python",
   "name": "python3"
  },
  "language_info": {
   "codemirror_mode": {
    "name": "ipython",
    "version": 3
   },
   "file_extension": ".py",
   "mimetype": "text/x-python",
   "name": "python",
   "nbconvert_exporter": "python",
   "pygments_lexer": "ipython3",
   "version": "3.10.10"
  }
 },
 "nbformat": 4,
 "nbformat_minor": 5
}
