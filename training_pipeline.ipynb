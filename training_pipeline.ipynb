{
 "cells": [
  {
   "cell_type": "markdown",
   "id": "d2f43258-33cc-444e-ad3f-532c376e278b",
   "metadata": {},
   "source": [
    "# Imports"
   ]
  },
  {
   "cell_type": "code",
   "execution_count": 18,
   "id": "e3863407-6d96-42dd-b61e-cf732b329b7d",
   "metadata": {},
   "outputs": [],
   "source": [
    "# <your imports>\n",
    "import numpy as np\n",
    "import torch\n",
    "from torch.optim import Adam\n",
    "import torch.nn as nn\n",
    "from tqdm import tqdm\n",
    "from omegaconf import OmegaConf\n",
    "from sklearn.metrics import accuracy_score, recall_score, precision_score, f1_score\n",
    "from transformers import TrainingArguments, Trainer\n",
    "from transformers import BertForSequenceClassification\n",
    "from transformers import EarlyStoppingCallback\n",
    "\n",
    "from preprocessing import Preprocessing\n",
    "\n",
    "\n",
    "# models\n",
    "from models import BertClassifier"
   ]
  },
  {
   "cell_type": "code",
   "execution_count": 32,
   "id": "dd8d7aef",
   "metadata": {},
   "outputs": [],
   "source": [
    "def compute_metrics(p):\n",
    "    pred, labels = p\n",
    "    pred = np.argmax(pred, axis=1)\n",
    "\n",
    "    accuracy = accuracy_score(y_true=labels, y_pred=pred)\n",
    "    recall = recall_score(y_true=labels, y_pred=pred, average='weighted')\n",
    "    precision = precision_score(y_true=labels, y_pred=pred, average='weighted')\n",
    "    f1 = f1_score(y_true=labels, y_pred=pred, average='weighted')\n",
    "\n",
    "    return {\"accuracy\": accuracy, \"precision\": precision, \"recall\": recall, \"f1\": f1}"
   ]
  },
  {
   "cell_type": "markdown",
   "id": "f3bcbd38-0667-4f85-b469-a21c325c2c78",
   "metadata": {},
   "source": [
    "# Data loading/preprocessing"
   ]
  },
  {
   "cell_type": "code",
   "execution_count": 8,
   "id": "753f1dfd-f326-4c7c-89f6-f6fc6a0ca4a5",
   "metadata": {},
   "outputs": [],
   "source": [
    "preprocessor = Preprocessing()\n",
    "\n",
    "result = preprocessor.get_datasets()\n",
    "\n",
    "train_set = result[\"train_set\"]\n",
    "val_set = result[\"val_set\"]"
   ]
  },
  {
   "cell_type": "markdown",
   "id": "2cea22ad-5730-4238-9058-5cd58a6905c3",
   "metadata": {},
   "source": [
    "# Model initialization"
   ]
  },
  {
   "cell_type": "code",
   "execution_count": null,
   "id": "e6ee12d1",
   "metadata": {},
   "outputs": [],
   "source": [
    "model = BertForSequenceClassification.from_pretrained('bert-base-uncased',\n",
    "                                                      num_labels=3,\n",
    "                                                      output_attentions=False,\n",
    "                                                      output_hidden_states=False)"
   ]
  },
  {
   "cell_type": "code",
   "execution_count": null,
   "id": "3c499332",
   "metadata": {},
   "outputs": [],
   "source": [
    "conf = OmegaConf.load(\"config.yaml\").general\n",
    "\n",
    "args = TrainingArguments(\n",
    "    output_dir=\"output\",\n",
    "    evaluation_strategy=\"steps\",\n",
    "    eval_steps=1,\n",
    "    per_device_train_batch_size=conf.batch_size,\n",
    "    per_device_eval_batch_size=conf.batch_size,\n",
    "    num_train_epochs=conf.epochs,\n",
    "    seed=0,\n",
    "    load_best_model_at_end=True,\n",
    ")"
   ]
  },
  {
   "cell_type": "code",
   "execution_count": 33,
   "id": "5f165911",
   "metadata": {},
   "outputs": [],
   "source": [
    "trainer = Trainer(\n",
    "    model=model,\n",
    "    args=args,\n",
    "    train_dataset=train_set,\n",
    "    eval_dataset=val_set,\n",
    "    compute_metrics=compute_metrics,\n",
    "    callbacks=[EarlyStoppingCallback(early_stopping_patience=3)],\n",
    ")"
   ]
  },
  {
   "cell_type": "markdown",
   "id": "d0fdb569",
   "metadata": {},
   "source": [
    "## Train loop"
   ]
  },
  {
   "cell_type": "code",
   "execution_count": 34,
   "id": "89e46b76",
   "metadata": {},
   "outputs": [],
   "source": [
    "# API key for wandb: 1fef7fd74ee7f9dfeb33b86d13b60f8ffe9c968a"
   ]
  },
  {
   "cell_type": "code",
   "execution_count": null,
   "id": "63145e4b",
   "metadata": {},
   "outputs": [],
   "source": [
    "trainer.train()"
   ]
  },
  {
   "cell_type": "markdown",
   "id": "215401eb",
   "metadata": {},
   "source": [
    "# Custom Trainer"
   ]
  },
  {
   "cell_type": "code",
   "execution_count": 36,
   "id": "0b2328a1",
   "metadata": {},
   "outputs": [],
   "source": [
    "# from trainer import Trainer"
   ]
  },
  {
   "cell_type": "code",
   "execution_count": null,
   "id": "a752ce11",
   "metadata": {},
   "outputs": [],
   "source": [
    "# preprocessor = Preprocessing()\n",
    "\n",
    "# result = preprocessor.get_dataloaders()\n",
    "\n",
    "# train_dl = result[\"train_dl\"]\n",
    "# val_dl = result[\"val_dl\"]"
   ]
  },
  {
   "cell_type": "code",
   "execution_count": null,
   "id": "c4899344",
   "metadata": {},
   "outputs": [],
   "source": [
    "# trainer = Trainer()"
   ]
  },
  {
   "cell_type": "code",
   "execution_count": null,
   "id": "97b1fd00",
   "metadata": {},
   "outputs": [],
   "source": [
    "# trainer.train(train_dl, val_dl)"
   ]
  },
  {
   "cell_type": "markdown",
   "id": "cc8b419b-918f-4a63-ae24-789ca309bca2",
   "metadata": {},
   "source": [
    "# Experiments"
   ]
  },
  {
   "cell_type": "code",
   "execution_count": null,
   "id": "6c157342",
   "metadata": {},
   "outputs": [],
   "source": []
  }
 ],
 "metadata": {
  "kernelspec": {
   "display_name": "Python 3 (ipykernel)",
   "language": "python",
   "name": "python3"
  },
  "language_info": {
   "codemirror_mode": {
    "name": "ipython",
    "version": 3
   },
   "file_extension": ".py",
   "mimetype": "text/x-python",
   "name": "python",
   "nbconvert_exporter": "python",
   "pygments_lexer": "ipython3",
   "version": "3.10.10"
  }
 },
 "nbformat": 4,
 "nbformat_minor": 5
}
