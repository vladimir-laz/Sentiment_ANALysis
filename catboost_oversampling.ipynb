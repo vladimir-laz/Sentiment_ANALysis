{
  "cells": [
    {
      "cell_type": "markdown",
      "metadata": {
        "id": "view-in-github",
        "colab_type": "text"
      },
      "source": [
        "<a href=\"https://colab.research.google.com/github/vladimir-laz/Sentiment_ANALysis/blob/main/catboost_oversampling.ipynb\" target=\"_parent\"><img src=\"https://colab.research.google.com/assets/colab-badge.svg\" alt=\"Open In Colab\"/></a>"
      ]
    },
    {
      "cell_type": "code",
      "execution_count": null,
      "metadata": {
        "colab": {
          "background_save": true
        },
        "id": "bcScxVQwmIGu"
      },
      "outputs": [],
      "source": [
        "!git clone https://github.com/vladimir-laz/Sentiment_ANALysis"
      ]
    },
    {
      "cell_type": "code",
      "execution_count": null,
      "metadata": {
        "id": "hO1N0WRLmYnS"
      },
      "outputs": [],
      "source": [
        "!pip install transformers pytorch_lightning torchmetrics omegaconf"
      ]
    },
    {
      "cell_type": "code",
      "execution_count": null,
      "metadata": {
        "id": "2M38EaOLnLwH"
      },
      "outputs": [],
      "source": [
        "import sys\n",
        "sys.path.append('./')"
      ]
    },
    {
      "cell_type": "code",
      "execution_count": null,
      "metadata": {
        "id": "fwXieiHMnvQi"
      },
      "outputs": [],
      "source": [
        "import os\n",
        "os.chdir('Sentiment_ANALysis')"
      ]
    },
    {
      "cell_type": "code",
      "execution_count": null,
      "metadata": {
        "id": "qZXN-T8Fmctm"
      },
      "outputs": [],
      "source": [
        "# <your imports>\n",
        "import numpy as np\n",
        "import torch\n",
        "from torch.optim import Adam\n",
        "import torch.nn as nn\n",
        "from tqdm import tqdm\n",
        "from omegaconf import OmegaConf\n",
        "from sklearn.metrics import accuracy_score, recall_score, precision_score, f1_score\n",
        "import pytorch_lightning as pl\n",
        "from transformers import TrainingArguments, Trainer\n",
        "from transformers import BertForSequenceClassification, XLMRobertaXLConfig\n",
        "from transformers import EarlyStoppingCallback\n",
        "\n",
        "from preprocessing import Preprocessing\n",
        "from matplotlib import pyplot as plt\n",
        "\n",
        "# models\n",
        "from models import BertClassifier\n",
        "\n",
        "# ignore fucking warnings\n",
        "import warnings\n",
        "warnings.filterwarnings(\"ignore\")"
      ]
    },
    {
      "cell_type": "markdown",
      "metadata": {
        "id": "1d0adfa2-6bba-4122-b7fd-ab809113081c"
      },
      "source": [
        "# preprocessing"
      ]
    },
    {
      "cell_type": "code",
      "source": [
        "!pip install nltk"
      ],
      "metadata": {
        "id": "PO9FlQPnyJtT"
      },
      "execution_count": null,
      "outputs": []
    },
    {
      "cell_type": "code",
      "source": [
        "!pip install pymorphy2"
      ],
      "metadata": {
        "id": "QqoA7K9pyWH0"
      },
      "execution_count": null,
      "outputs": []
    },
    {
      "cell_type": "code",
      "source": [
        "from tqdm.notebook import tqdm\n",
        "import numpy as np\n",
        "import  pandas as pd\n",
        "import pymorphy2\n",
        "import itertools\n",
        "\n",
        "\n",
        "# ignore fucking warnings\n",
        "import warnings\n",
        "warnings.filterwarnings(\"ignore\")\n",
        "\n",
        "\n",
        "import nltk\n",
        "from nltk.tokenize import RegexpTokenizer\n",
        "nltk.download('punkt')"
      ],
      "metadata": {
        "id": "QHq6D1pryiTy"
      },
      "execution_count": null,
      "outputs": []
    },
    {
      "cell_type": "code",
      "execution_count": null,
      "metadata": {
        "id": "73633564-1fc8-45cb-b043-05a2a7c8d710"
      },
      "outputs": [],
      "source": [
        "nltk.download('stopwords')\n",
        "# pymorphy2 анализатор\n",
        "morph = pymorphy2.MorphAnalyzer()\n",
        "# стоп слова из nltk\n",
        "stops = nltk.corpus.stopwords.words('russian')"
      ]
    },
    {
      "cell_type": "code",
      "execution_count": 146,
      "metadata": {
        "id": "565f0b76-31ff-4618-852b-2e93847b5929"
      },
      "outputs": [],
      "source": [
        "word_tokenizer = RegexpTokenizer(r'[a-zа-яёЁА-ЯA-Z]+|[^\\w\\s]|\\d+')\n",
        "sent_tokenizer = lambda sent: nltk.sent_tokenize(sent, language=\"russian\")"
      ]
    },
    {
      "cell_type": "code",
      "execution_count": 147,
      "metadata": {
        "id": "e208819f-a870-4dfc-8fb4-4f22ca618651"
      },
      "outputs": [],
      "source": [
        "def proccess_text(text):\n",
        "    text= text.lower()\n",
        "    sents = sent_tokenizer(text)\n",
        "    words = list(\n",
        "        itertools.chain.from_iterable(\n",
        "            word_tokenizer.tokenize_sents(sents)))\n",
        "    return [x for x in [morph.normal_forms(word)[0] for word in words ]\\\n",
        "            if x not in stops]"
      ]
    },
    {
      "cell_type": "code",
      "execution_count": null,
      "metadata": {
        "id": "682ff734-eb9c-4e5e-8f34-2e738b837537"
      },
      "outputs": [],
      "source": [
        "dataframe = pd.read_csv(\"data/data_ruSentNE.csv\")\n",
        "dataframe.head(10)"
      ]
    },
    {
      "cell_type": "code",
      "execution_count": 149,
      "metadata": {
        "scrolled": true,
        "tags": [],
        "id": "29dd20cd-2842-47e0-9a5c-30fa8f5788f6",
        "outputId": "47bb4c1d-e302-40ce-ff57-70272fd85184",
        "colab": {
          "referenced_widgets": [
            "9654cfa814254b17a3386c8e4a71421f",
            "4bf6af2460384c02875ce0659fc1326b",
            "08ae27f2c8a04b62832aa08aad0614e0",
            "5e1e02d296644d6b9cf79dd871966e40",
            "4f4bdc07eee9446d9aed09edf550313c",
            "96faa4945383426c9ff03dcd9d048717",
            "321f080c177d40f48d60c113933f3c00",
            "33d3c98a6ea146779d52954aed233529",
            "35b3e94d275f496489b22b43f6dfe75f",
            "5940608872e54e8c9c78383bfc0af9b5",
            "c06ba40c5d9a4546abf01ac9f2ceaaab",
            "07a4b948685546d986bc25fdc780430a",
            "16acf0feda4642fabcf2548580474bed",
            "7a7fa1a9dde840ee89a7bc9fa0135d17",
            "ac4e50d6d3024d4688eae05630595345",
            "0f80bb6753b54cb6b609de256a761318",
            "5092053e33fb475cac3112faa343761f",
            "20ab686b346f43b7ad576b58de9fc411",
            "ff00288279e741b882150968965fa12b",
            "1729bd8ae6f144f2b7e32042e62fb851",
            "49c83e120a6e414a86dc01855cdcd4ec",
            "485bfd4e8a1d4d0c800454edc7a4f565"
          ],
          "base_uri": "https://localhost:8080/",
          "height": 81
        }
      },
      "outputs": [
        {
          "output_type": "display_data",
          "data": {
            "text/plain": [
              "  0%|          | 0/9482 [00:00<?, ?it/s]"
            ],
            "application/vnd.jupyter.widget-view+json": {
              "version_major": 2,
              "version_minor": 0,
              "model_id": "9654cfa814254b17a3386c8e4a71421f"
            }
          },
          "metadata": {}
        },
        {
          "output_type": "display_data",
          "data": {
            "text/plain": [
              "  0%|          | 0/9482 [00:00<?, ?it/s]"
            ],
            "application/vnd.jupyter.widget-view+json": {
              "version_major": 2,
              "version_minor": 0,
              "model_id": "07a4b948685546d986bc25fdc780430a"
            }
          },
          "metadata": {}
        }
      ],
      "source": [
        "data_text = dataframe['text']\n",
        "for i in tqdm(range(len(dataframe))):\n",
        "    # print(data_text.loc[i])\n",
        "    data_text.iloc[i] = ' '.join(proccess_text(data_text.loc[i]))\n",
        "    \n",
        "\n",
        "data_text = dataframe['entity']\n",
        "for i in tqdm(range(len(dataframe))):\n",
        "    # print(data_text.loc[i])\n",
        "    data_text.iloc[i] = ' '.join(proccess_text(data_text.loc[i]))\n",
        "dataframe.to_csv('data/data_ruSentNE_lemmatized.csv', index=False)\n",
        "\n",
        "# препроцесинг занимает порядка двух часов (из-за лематизации), поэтому \n",
        "# рекомендуется загрузить сразу обработанную версию\n"
      ]
    },
    {
      "cell_type": "code",
      "execution_count": null,
      "metadata": {
        "id": "39317361-9ca2-4578-8086-d04d0809d705"
      },
      "outputs": [],
      "source": [
        "data = pd.read_csv(\"data/data_ruSentNE_lemmatized.csv\")\n",
        "data.head(10)"
      ]
    },
    {
      "cell_type": "code",
      "execution_count": 151,
      "metadata": {
        "id": "8qcx76-RvJrI"
      },
      "outputs": [],
      "source": [
        "def custom_f1(p):\n",
        "    pred, labels = p\n",
        "    pred = np.argmax(pred, axis=1)\n",
        "\n",
        "    f1_scores = f1_score(y_true=labels, y_pred=pred, average=None)\n",
        "    final_score = (f1_scores[0] + f1_scores[2]) / 2\n",
        "    return final_score"
      ]
    },
    {
      "cell_type": "code",
      "execution_count": 152,
      "metadata": {
        "colab": {
          "base_uri": "https://localhost:8080/"
        },
        "id": "9nNbiLAKnH67",
        "outputId": "dfb51ecd-b107-4f5a-c406-7853d662ab47"
      },
      "outputs": [
        {
          "output_type": "stream",
          "name": "stdout",
          "text": [
            "dataset_name: ruSentNE_lemmatized\n",
            "batch_size: 16\n",
            "device: cpu\n",
            "dataloader_shuffle: True\n",
            "pretrained_model: bert-base-uncased\n",
            "num_classes: 3\n",
            "num_workers: 1\n",
            "lr: 1e-06\n",
            "epochs: 2\n",
            "eps: 1e-08\n",
            "optimizer: AdamW\n",
            "eval_steps: 10\n",
            "logging_steps: 10\n"
          ]
        }
      ],
      "source": [
        "conf = OmegaConf.load(\"config.yaml\").general\n",
        "for i in conf.keys():\n",
        "    print(f'{i}: {conf[i]}')"
      ]
    },
    {
      "cell_type": "markdown",
      "source": [
        "# Oversampling SMOTE"
      ],
      "metadata": {
        "id": "T9DPC8Yf4SMG"
      }
    },
    {
      "cell_type": "code",
      "execution_count": 223,
      "metadata": {
        "id": "PVbCAg5QoD7p"
      },
      "outputs": [],
      "source": [
        "preprocessor = Preprocessing()\n",
        "\n",
        "result = preprocessor.get_datasets()\n",
        "\n",
        "train_set = result[\"train_set\"]\n",
        "val_set = result[\"val_set\"]\n",
        "\n",
        "mask = [sample['attention_mask'].cpu().detach().numpy() for sample in train_set]\n",
        "input_ids = [sample['input_ids'].cpu().detach().numpy() for sample in train_set]\n",
        "label = train_set[:]['label'].cpu()"
      ]
    },
    {
      "cell_type": "code",
      "execution_count": 166,
      "metadata": {
        "id": "GwmcOX6OLRZd"
      },
      "outputs": [],
      "source": [
        "from imblearn.over_sampling import SMOTE\n",
        "ada = SMOTE(k_neighbors=1)"
      ]
    },
    {
      "cell_type": "code",
      "execution_count": 167,
      "metadata": {
        "colab": {
          "base_uri": "https://localhost:8080/",
          "height": 35
        },
        "id": "on7sH18EL0I_",
        "outputId": "8d34f93f-0691-4365-b145-76f13aa6ab70"
      },
      "outputs": [
        {
          "output_type": "execute_result",
          "data": {
            "text/plain": [
              "'cuda:0'"
            ],
            "application/vnd.google.colaboratory.intrinsic+json": {
              "type": "string"
            }
          },
          "metadata": {},
          "execution_count": 167
        }
      ],
      "source": [
        "device = \"cuda:0\" if torch.cuda.is_available() else \"cpu\"\n",
        "device"
      ]
    },
    {
      "cell_type": "code",
      "execution_count": 172,
      "metadata": {
        "id": "S6WabveopQUi"
      },
      "outputs": [],
      "source": [
        "x = mask\n",
        "x = np.array(x)"
      ]
    },
    {
      "cell_type": "code",
      "execution_count": 174,
      "metadata": {
        "colab": {
          "base_uri": "https://localhost:8080/"
        },
        "id": "xpyTqPF5rUWI",
        "outputId": "a0dc3bf1-c656-49ac-df14-dcb606ae1a9c"
      },
      "outputs": [
        {
          "output_type": "execute_result",
          "data": {
            "text/plain": [
              "7585"
            ]
          },
          "metadata": {},
          "execution_count": 174
        }
      ],
      "source": [
        "y = label\n",
        "len(y)"
      ]
    },
    {
      "cell_type": "code",
      "execution_count": 175,
      "metadata": {
        "id": "z2oMRb2_rXNe"
      },
      "outputs": [],
      "source": [
        "from sklearn.model_selection import train_test_split\n",
        "x_train, x_test, y_train, y_test = train_test_split(x,y, test_size = 0.2,random_state=0, stratify=y)"
      ]
    },
    {
      "cell_type": "code",
      "execution_count": 176,
      "metadata": {
        "id": "Wx8M95QIrZUR"
      },
      "outputs": [],
      "source": [
        "x_res, y_res = ada.fit_resample(x_train, y_train)"
      ]
    },
    {
      "cell_type": "code",
      "execution_count": null,
      "metadata": {
        "id": "OxBzAdtbzyXg"
      },
      "outputs": [],
      "source": [
        "!pip install catboost"
      ]
    },
    {
      "cell_type": "code",
      "execution_count": 247,
      "metadata": {
        "id": "oKEskOTQyOuq"
      },
      "outputs": [],
      "source": [
        "from catboost import CatBoostClassifier\n",
        "model_1 = CatBoostClassifier(loss_function='MultiClass', task_type=\"GPU\", devices='0:1', n_estimators=1)"
      ]
    },
    {
      "cell_type": "code",
      "execution_count": 248,
      "metadata": {
        "id": "RnDJYANyzePS",
        "outputId": "2d0db28f-73a9-42de-d284-91cf299eee1e",
        "colab": {
          "base_uri": "https://localhost:8080/"
        }
      },
      "outputs": [
        {
          "output_type": "stream",
          "name": "stderr",
          "text": [
            "Warning: less than 75% gpu memory available for training. Free: 8886.8125 Total: 15101.8125\n"
          ]
        },
        {
          "output_type": "stream",
          "name": "stdout",
          "text": [
            "Learning rate set to 0.5\n",
            "0:\tlearn: 1.0916333\ttotal: 8.87ms\tremaining: 0us\n"
          ]
        },
        {
          "output_type": "execute_result",
          "data": {
            "text/plain": [
              "<catboost.core.CatBoostClassifier at 0x7ff65b8affa0>"
            ]
          },
          "metadata": {},
          "execution_count": 248
        }
      ],
      "source": [
        "model_1.fit(x_res, y_res)"
      ]
    },
    {
      "cell_type": "code",
      "execution_count": 249,
      "metadata": {
        "id": "do921Zd2z5qo"
      },
      "outputs": [],
      "source": [
        "y_pred_1 = model_1.predict(x_train)"
      ]
    },
    {
      "cell_type": "code",
      "execution_count": 250,
      "metadata": {
        "colab": {
          "base_uri": "https://localhost:8080/"
        },
        "id": "7n0vzwK4z9ID",
        "outputId": "0ff5aa58-8e03-46d7-bd68-ddf73d8c50c0"
      },
      "outputs": [
        {
          "output_type": "stream",
          "name": "stdout",
          "text": [
            "              precision    recall  f1-score   support\n",
            "\n",
            "           0       0.19      0.32      0.24       925\n",
            "           1       0.77      0.29      0.42      4364\n",
            "           2       0.14      0.52      0.22       779\n",
            "\n",
            "    accuracy                           0.32      6068\n",
            "   macro avg       0.37      0.38      0.29      6068\n",
            "weighted avg       0.60      0.32      0.37      6068\n",
            "\n"
          ]
        }
      ],
      "source": [
        "from sklearn.metrics import classification_report\n",
        "print(classification_report(y_train, y_pred_1))"
      ]
    },
    {
      "cell_type": "code",
      "execution_count": 251,
      "metadata": {
        "id": "QMeO_LUH0chR"
      },
      "outputs": [],
      "source": [
        "y_pred_test_1 = model_1.predict(x_test)"
      ]
    },
    {
      "cell_type": "code",
      "execution_count": 252,
      "metadata": {
        "colab": {
          "base_uri": "https://localhost:8080/"
        },
        "id": "M0YDVsC75gGG",
        "outputId": "ed09cf48-22ec-4b51-f38a-c36cb9da124c"
      },
      "outputs": [
        {
          "output_type": "stream",
          "name": "stdout",
          "text": [
            "              precision    recall  f1-score   support\n",
            "\n",
            "           0       0.31      0.18      0.23       391\n",
            "           1       0.26      0.71      0.38       404\n",
            "           2       0.50      0.13      0.21       722\n",
            "\n",
            "    accuracy                           0.30      1517\n",
            "   macro avg       0.36      0.34      0.28      1517\n",
            "weighted avg       0.39      0.30      0.26      1517\n",
            "\n"
          ]
        }
      ],
      "source": [
        "print(classification_report(y_pred_test_1, y_test))"
      ]
    },
    {
      "cell_type": "code",
      "execution_count": 112,
      "metadata": {
        "colab": {
          "base_uri": "https://localhost:8080/"
        },
        "id": "5xceplbc9jPQ",
        "outputId": "3a449214-52dc-4749-eb10-4fb5c058c83a"
      },
      "outputs": [
        {
          "output_type": "stream",
          "name": "stdout",
          "text": [
            "--2023-05-30 22:08:40--  https://raw.githubusercontent.com/dialogue-evaluation/RuSentNE-evaluation/main/final_data.csv\n",
            "Resolving raw.githubusercontent.com (raw.githubusercontent.com)... 185.199.108.133, 185.199.109.133, 185.199.110.133, ...\n",
            "Connecting to raw.githubusercontent.com (raw.githubusercontent.com)|185.199.108.133|:443... connected.\n",
            "HTTP request sent, awaiting response... 200 OK\n",
            "Length: 596680 (583K) [text/plain]\n",
            "Saving to: ‘final_data.csv.1’\n",
            "\n",
            "final_data.csv.1    100%[===================>] 582.70K  --.-KB/s    in 0.007s  \n",
            "\n",
            "2023-05-30 22:08:40 (79.1 MB/s) - ‘final_data.csv.1’ saved [596680/596680]\n",
            "\n"
          ]
        }
      ],
      "source": [
        "!wget https://raw.githubusercontent.com/dialogue-evaluation/RuSentNE-evaluation/main/final_data.csv"
      ]
    },
    {
      "cell_type": "code",
      "execution_count": 253,
      "metadata": {
        "id": "WEIqfhPo95HE"
      },
      "outputs": [],
      "source": [
        "import pandas as pd\n",
        "data = pd.read_csv('final_data.csv', sep='\\t')"
      ]
    },
    {
      "cell_type": "code",
      "source": [
        "import pandas as pd\n",
        "import yaml\n",
        "from transformers import (\n",
        "    BertTokenizerFast,\n",
        "    RobertaTokenizer,\n",
        "    GPT2Tokenizer,\n",
        "    DistilBertTokenizer,\n",
        "    RobertaTokenizerFast,\n",
        ")\n",
        "from src.dataset import TextClassificationDataset, AspectBasedSentimentAnalysisDataset\n",
        "from torch.utils.data import Dataset, DataLoader"
      ],
      "metadata": {
        "id": "7Sm20F8ti-pU"
      },
      "execution_count": 255,
      "outputs": []
    },
    {
      "cell_type": "code",
      "source": [
        "# def test_loader(string):\n",
        "\n",
        "filaname = \"final_data.csv\"\n",
        "\n",
        "with open(\"config.yaml\") as f:\n",
        "    full_config = yaml.load(f, Loader=yaml.FullLoader)\n",
        "    config = full_config[\"preprocessing\"]\n",
        "\n",
        "df = pd.read_csv(f\"data/{filaname}\", delimiter='\\t')\n",
        "# display(df.head())\n",
        "\n",
        "if config[\"tokenizer\"] == \"BertTokenizerFast\":\n",
        "    tokenizer = BertTokenizerFast.from_pretrained(\"bert-base-uncased\")\n",
        "elif config[\"tokenizer\"] == \"RobertaTokenizerFast\":\n",
        "    tokenizer = RobertaTokenizerFast.from_pretrained(\n",
        "        \"blinoff/roberta-base-russian-v0\", max_len=512\n",
        "    )\n",
        "elif config[\"tokenizer\"] == \"RobertaTokenizer\":\n",
        "    tokenizer = RobertaTokenizer.from_pretrained(\"roberta-base\")\n",
        "elif config[\"tokenizer\"] == \"GPT2Tokenizer\":\n",
        "    tokenizer = GPT2Tokenizer.from_pretrained(\"gpt2\")\n",
        "    tokenizer.add_special_tokens({\"pad_token\": \"[PAD]\"})\n",
        "elif config[\"tokenizer\"] == \"DistilBertTokenizer\":\n",
        "    tokenizer = DistilBertTokenizer.from_pretrained(\n",
        "        \"distilbert-base-uncased\"\n",
        "    )\n",
        "else:\n",
        "    raise ValueError(f\"Tokenizer {config['tokenizer']} not supported\")\n",
        "    \n",
        "test_dataset = AspectBasedSentimentAnalysisDataset(\n",
        "    texts=df[\"sentence\"].to_numpy(),\n",
        "    labels=np.ones(df.shape[0]),\n",
        "    aspect_terms=df[\"entity\"].to_numpy(),\n",
        "    tokenizer=tokenizer,\n",
        ")\n",
        "\n",
        "test_dl = DataLoader(\n",
        "    test_dataset,\n",
        "    batch_size=full_config[\"general\"][\"batch_size\"],\n",
        "    shuffle=False,\n",
        "    num_workers=full_config[\"general\"][\"num_workers\"],\n",
        ")"
      ],
      "metadata": {
        "id": "ax7ke8V7jJLe"
      },
      "execution_count": 256,
      "outputs": []
    },
    {
      "cell_type": "code",
      "source": [
        "model = model.to(\"cuda\")\n",
        "\n",
        "with torch.no_grad():\n",
        "    outputs = []\n",
        "    for batch in test_dl:\n",
        "        inputs = np.array(batch[\"attention_mask\"])\n",
        "        output = model_1.predict(inputs)\n",
        "        output = np.array(output)\n",
        "        print(output)\n",
        "        outputs.append(output)\n",
        "outputs = np.vstack(outputs)"
      ],
      "metadata": {
        "id": "wGIcQ8yMjNez"
      },
      "execution_count": null,
      "outputs": []
    },
    {
      "cell_type": "code",
      "source": [
        "data[\"label\"] = outputs\n",
        "(data[\"label\"]-1).to_csv(f\"data/submission.csv\", sep=\"\\t\", index=False, header=False)"
      ],
      "metadata": {
        "id": "x8QMPRs_kbqG"
      },
      "execution_count": 258,
      "outputs": []
    }
  ],
  "metadata": {
    "accelerator": "GPU",
    "colab": {
      "provenance": [],
      "include_colab_link": true
    },
    "kernelspec": {
      "display_name": "Python 3",
      "name": "python3"
    },
    "language_info": {
      "name": "python"
    },
    "widgets": {
      "application/vnd.jupyter.widget-state+json": {
        "9654cfa814254b17a3386c8e4a71421f": {
          "model_module": "@jupyter-widgets/controls",
          "model_name": "HBoxModel",
          "model_module_version": "1.5.0",
          "state": {
            "_dom_classes": [],
            "_model_module": "@jupyter-widgets/controls",
            "_model_module_version": "1.5.0",
            "_model_name": "HBoxModel",
            "_view_count": null,
            "_view_module": "@jupyter-widgets/controls",
            "_view_module_version": "1.5.0",
            "_view_name": "HBoxView",
            "box_style": "",
            "children": [
              "IPY_MODEL_4bf6af2460384c02875ce0659fc1326b",
              "IPY_MODEL_08ae27f2c8a04b62832aa08aad0614e0",
              "IPY_MODEL_5e1e02d296644d6b9cf79dd871966e40"
            ],
            "layout": "IPY_MODEL_4f4bdc07eee9446d9aed09edf550313c"
          }
        },
        "4bf6af2460384c02875ce0659fc1326b": {
          "model_module": "@jupyter-widgets/controls",
          "model_name": "HTMLModel",
          "model_module_version": "1.5.0",
          "state": {
            "_dom_classes": [],
            "_model_module": "@jupyter-widgets/controls",
            "_model_module_version": "1.5.0",
            "_model_name": "HTMLModel",
            "_view_count": null,
            "_view_module": "@jupyter-widgets/controls",
            "_view_module_version": "1.5.0",
            "_view_name": "HTMLView",
            "description": "",
            "description_tooltip": null,
            "layout": "IPY_MODEL_96faa4945383426c9ff03dcd9d048717",
            "placeholder": "​",
            "style": "IPY_MODEL_321f080c177d40f48d60c113933f3c00",
            "value": "100%"
          }
        },
        "08ae27f2c8a04b62832aa08aad0614e0": {
          "model_module": "@jupyter-widgets/controls",
          "model_name": "FloatProgressModel",
          "model_module_version": "1.5.0",
          "state": {
            "_dom_classes": [],
            "_model_module": "@jupyter-widgets/controls",
            "_model_module_version": "1.5.0",
            "_model_name": "FloatProgressModel",
            "_view_count": null,
            "_view_module": "@jupyter-widgets/controls",
            "_view_module_version": "1.5.0",
            "_view_name": "ProgressView",
            "bar_style": "success",
            "description": "",
            "description_tooltip": null,
            "layout": "IPY_MODEL_33d3c98a6ea146779d52954aed233529",
            "max": 9482,
            "min": 0,
            "orientation": "horizontal",
            "style": "IPY_MODEL_35b3e94d275f496489b22b43f6dfe75f",
            "value": 9482
          }
        },
        "5e1e02d296644d6b9cf79dd871966e40": {
          "model_module": "@jupyter-widgets/controls",
          "model_name": "HTMLModel",
          "model_module_version": "1.5.0",
          "state": {
            "_dom_classes": [],
            "_model_module": "@jupyter-widgets/controls",
            "_model_module_version": "1.5.0",
            "_model_name": "HTMLModel",
            "_view_count": null,
            "_view_module": "@jupyter-widgets/controls",
            "_view_module_version": "1.5.0",
            "_view_name": "HTMLView",
            "description": "",
            "description_tooltip": null,
            "layout": "IPY_MODEL_5940608872e54e8c9c78383bfc0af9b5",
            "placeholder": "​",
            "style": "IPY_MODEL_c06ba40c5d9a4546abf01ac9f2ceaaab",
            "value": " 9482/9482 [00:57&lt;00:00, 211.78it/s]"
          }
        },
        "4f4bdc07eee9446d9aed09edf550313c": {
          "model_module": "@jupyter-widgets/base",
          "model_name": "LayoutModel",
          "model_module_version": "1.2.0",
          "state": {
            "_model_module": "@jupyter-widgets/base",
            "_model_module_version": "1.2.0",
            "_model_name": "LayoutModel",
            "_view_count": null,
            "_view_module": "@jupyter-widgets/base",
            "_view_module_version": "1.2.0",
            "_view_name": "LayoutView",
            "align_content": null,
            "align_items": null,
            "align_self": null,
            "border": null,
            "bottom": null,
            "display": null,
            "flex": null,
            "flex_flow": null,
            "grid_area": null,
            "grid_auto_columns": null,
            "grid_auto_flow": null,
            "grid_auto_rows": null,
            "grid_column": null,
            "grid_gap": null,
            "grid_row": null,
            "grid_template_areas": null,
            "grid_template_columns": null,
            "grid_template_rows": null,
            "height": null,
            "justify_content": null,
            "justify_items": null,
            "left": null,
            "margin": null,
            "max_height": null,
            "max_width": null,
            "min_height": null,
            "min_width": null,
            "object_fit": null,
            "object_position": null,
            "order": null,
            "overflow": null,
            "overflow_x": null,
            "overflow_y": null,
            "padding": null,
            "right": null,
            "top": null,
            "visibility": null,
            "width": null
          }
        },
        "96faa4945383426c9ff03dcd9d048717": {
          "model_module": "@jupyter-widgets/base",
          "model_name": "LayoutModel",
          "model_module_version": "1.2.0",
          "state": {
            "_model_module": "@jupyter-widgets/base",
            "_model_module_version": "1.2.0",
            "_model_name": "LayoutModel",
            "_view_count": null,
            "_view_module": "@jupyter-widgets/base",
            "_view_module_version": "1.2.0",
            "_view_name": "LayoutView",
            "align_content": null,
            "align_items": null,
            "align_self": null,
            "border": null,
            "bottom": null,
            "display": null,
            "flex": null,
            "flex_flow": null,
            "grid_area": null,
            "grid_auto_columns": null,
            "grid_auto_flow": null,
            "grid_auto_rows": null,
            "grid_column": null,
            "grid_gap": null,
            "grid_row": null,
            "grid_template_areas": null,
            "grid_template_columns": null,
            "grid_template_rows": null,
            "height": null,
            "justify_content": null,
            "justify_items": null,
            "left": null,
            "margin": null,
            "max_height": null,
            "max_width": null,
            "min_height": null,
            "min_width": null,
            "object_fit": null,
            "object_position": null,
            "order": null,
            "overflow": null,
            "overflow_x": null,
            "overflow_y": null,
            "padding": null,
            "right": null,
            "top": null,
            "visibility": null,
            "width": null
          }
        },
        "321f080c177d40f48d60c113933f3c00": {
          "model_module": "@jupyter-widgets/controls",
          "model_name": "DescriptionStyleModel",
          "model_module_version": "1.5.0",
          "state": {
            "_model_module": "@jupyter-widgets/controls",
            "_model_module_version": "1.5.0",
            "_model_name": "DescriptionStyleModel",
            "_view_count": null,
            "_view_module": "@jupyter-widgets/base",
            "_view_module_version": "1.2.0",
            "_view_name": "StyleView",
            "description_width": ""
          }
        },
        "33d3c98a6ea146779d52954aed233529": {
          "model_module": "@jupyter-widgets/base",
          "model_name": "LayoutModel",
          "model_module_version": "1.2.0",
          "state": {
            "_model_module": "@jupyter-widgets/base",
            "_model_module_version": "1.2.0",
            "_model_name": "LayoutModel",
            "_view_count": null,
            "_view_module": "@jupyter-widgets/base",
            "_view_module_version": "1.2.0",
            "_view_name": "LayoutView",
            "align_content": null,
            "align_items": null,
            "align_self": null,
            "border": null,
            "bottom": null,
            "display": null,
            "flex": null,
            "flex_flow": null,
            "grid_area": null,
            "grid_auto_columns": null,
            "grid_auto_flow": null,
            "grid_auto_rows": null,
            "grid_column": null,
            "grid_gap": null,
            "grid_row": null,
            "grid_template_areas": null,
            "grid_template_columns": null,
            "grid_template_rows": null,
            "height": null,
            "justify_content": null,
            "justify_items": null,
            "left": null,
            "margin": null,
            "max_height": null,
            "max_width": null,
            "min_height": null,
            "min_width": null,
            "object_fit": null,
            "object_position": null,
            "order": null,
            "overflow": null,
            "overflow_x": null,
            "overflow_y": null,
            "padding": null,
            "right": null,
            "top": null,
            "visibility": null,
            "width": null
          }
        },
        "35b3e94d275f496489b22b43f6dfe75f": {
          "model_module": "@jupyter-widgets/controls",
          "model_name": "ProgressStyleModel",
          "model_module_version": "1.5.0",
          "state": {
            "_model_module": "@jupyter-widgets/controls",
            "_model_module_version": "1.5.0",
            "_model_name": "ProgressStyleModel",
            "_view_count": null,
            "_view_module": "@jupyter-widgets/base",
            "_view_module_version": "1.2.0",
            "_view_name": "StyleView",
            "bar_color": null,
            "description_width": ""
          }
        },
        "5940608872e54e8c9c78383bfc0af9b5": {
          "model_module": "@jupyter-widgets/base",
          "model_name": "LayoutModel",
          "model_module_version": "1.2.0",
          "state": {
            "_model_module": "@jupyter-widgets/base",
            "_model_module_version": "1.2.0",
            "_model_name": "LayoutModel",
            "_view_count": null,
            "_view_module": "@jupyter-widgets/base",
            "_view_module_version": "1.2.0",
            "_view_name": "LayoutView",
            "align_content": null,
            "align_items": null,
            "align_self": null,
            "border": null,
            "bottom": null,
            "display": null,
            "flex": null,
            "flex_flow": null,
            "grid_area": null,
            "grid_auto_columns": null,
            "grid_auto_flow": null,
            "grid_auto_rows": null,
            "grid_column": null,
            "grid_gap": null,
            "grid_row": null,
            "grid_template_areas": null,
            "grid_template_columns": null,
            "grid_template_rows": null,
            "height": null,
            "justify_content": null,
            "justify_items": null,
            "left": null,
            "margin": null,
            "max_height": null,
            "max_width": null,
            "min_height": null,
            "min_width": null,
            "object_fit": null,
            "object_position": null,
            "order": null,
            "overflow": null,
            "overflow_x": null,
            "overflow_y": null,
            "padding": null,
            "right": null,
            "top": null,
            "visibility": null,
            "width": null
          }
        },
        "c06ba40c5d9a4546abf01ac9f2ceaaab": {
          "model_module": "@jupyter-widgets/controls",
          "model_name": "DescriptionStyleModel",
          "model_module_version": "1.5.0",
          "state": {
            "_model_module": "@jupyter-widgets/controls",
            "_model_module_version": "1.5.0",
            "_model_name": "DescriptionStyleModel",
            "_view_count": null,
            "_view_module": "@jupyter-widgets/base",
            "_view_module_version": "1.2.0",
            "_view_name": "StyleView",
            "description_width": ""
          }
        },
        "07a4b948685546d986bc25fdc780430a": {
          "model_module": "@jupyter-widgets/controls",
          "model_name": "HBoxModel",
          "model_module_version": "1.5.0",
          "state": {
            "_dom_classes": [],
            "_model_module": "@jupyter-widgets/controls",
            "_model_module_version": "1.5.0",
            "_model_name": "HBoxModel",
            "_view_count": null,
            "_view_module": "@jupyter-widgets/controls",
            "_view_module_version": "1.5.0",
            "_view_name": "HBoxView",
            "box_style": "",
            "children": [
              "IPY_MODEL_16acf0feda4642fabcf2548580474bed",
              "IPY_MODEL_7a7fa1a9dde840ee89a7bc9fa0135d17",
              "IPY_MODEL_ac4e50d6d3024d4688eae05630595345"
            ],
            "layout": "IPY_MODEL_0f80bb6753b54cb6b609de256a761318"
          }
        },
        "16acf0feda4642fabcf2548580474bed": {
          "model_module": "@jupyter-widgets/controls",
          "model_name": "HTMLModel",
          "model_module_version": "1.5.0",
          "state": {
            "_dom_classes": [],
            "_model_module": "@jupyter-widgets/controls",
            "_model_module_version": "1.5.0",
            "_model_name": "HTMLModel",
            "_view_count": null,
            "_view_module": "@jupyter-widgets/controls",
            "_view_module_version": "1.5.0",
            "_view_name": "HTMLView",
            "description": "",
            "description_tooltip": null,
            "layout": "IPY_MODEL_5092053e33fb475cac3112faa343761f",
            "placeholder": "​",
            "style": "IPY_MODEL_20ab686b346f43b7ad576b58de9fc411",
            "value": "100%"
          }
        },
        "7a7fa1a9dde840ee89a7bc9fa0135d17": {
          "model_module": "@jupyter-widgets/controls",
          "model_name": "FloatProgressModel",
          "model_module_version": "1.5.0",
          "state": {
            "_dom_classes": [],
            "_model_module": "@jupyter-widgets/controls",
            "_model_module_version": "1.5.0",
            "_model_name": "FloatProgressModel",
            "_view_count": null,
            "_view_module": "@jupyter-widgets/controls",
            "_view_module_version": "1.5.0",
            "_view_name": "ProgressView",
            "bar_style": "success",
            "description": "",
            "description_tooltip": null,
            "layout": "IPY_MODEL_ff00288279e741b882150968965fa12b",
            "max": 9482,
            "min": 0,
            "orientation": "horizontal",
            "style": "IPY_MODEL_1729bd8ae6f144f2b7e32042e62fb851",
            "value": 9482
          }
        },
        "ac4e50d6d3024d4688eae05630595345": {
          "model_module": "@jupyter-widgets/controls",
          "model_name": "HTMLModel",
          "model_module_version": "1.5.0",
          "state": {
            "_dom_classes": [],
            "_model_module": "@jupyter-widgets/controls",
            "_model_module_version": "1.5.0",
            "_model_name": "HTMLModel",
            "_view_count": null,
            "_view_module": "@jupyter-widgets/controls",
            "_view_module_version": "1.5.0",
            "_view_name": "HTMLView",
            "description": "",
            "description_tooltip": null,
            "layout": "IPY_MODEL_49c83e120a6e414a86dc01855cdcd4ec",
            "placeholder": "​",
            "style": "IPY_MODEL_485bfd4e8a1d4d0c800454edc7a4f565",
            "value": " 9482/9482 [00:09&lt;00:00, 1150.48it/s]"
          }
        },
        "0f80bb6753b54cb6b609de256a761318": {
          "model_module": "@jupyter-widgets/base",
          "model_name": "LayoutModel",
          "model_module_version": "1.2.0",
          "state": {
            "_model_module": "@jupyter-widgets/base",
            "_model_module_version": "1.2.0",
            "_model_name": "LayoutModel",
            "_view_count": null,
            "_view_module": "@jupyter-widgets/base",
            "_view_module_version": "1.2.0",
            "_view_name": "LayoutView",
            "align_content": null,
            "align_items": null,
            "align_self": null,
            "border": null,
            "bottom": null,
            "display": null,
            "flex": null,
            "flex_flow": null,
            "grid_area": null,
            "grid_auto_columns": null,
            "grid_auto_flow": null,
            "grid_auto_rows": null,
            "grid_column": null,
            "grid_gap": null,
            "grid_row": null,
            "grid_template_areas": null,
            "grid_template_columns": null,
            "grid_template_rows": null,
            "height": null,
            "justify_content": null,
            "justify_items": null,
            "left": null,
            "margin": null,
            "max_height": null,
            "max_width": null,
            "min_height": null,
            "min_width": null,
            "object_fit": null,
            "object_position": null,
            "order": null,
            "overflow": null,
            "overflow_x": null,
            "overflow_y": null,
            "padding": null,
            "right": null,
            "top": null,
            "visibility": null,
            "width": null
          }
        },
        "5092053e33fb475cac3112faa343761f": {
          "model_module": "@jupyter-widgets/base",
          "model_name": "LayoutModel",
          "model_module_version": "1.2.0",
          "state": {
            "_model_module": "@jupyter-widgets/base",
            "_model_module_version": "1.2.0",
            "_model_name": "LayoutModel",
            "_view_count": null,
            "_view_module": "@jupyter-widgets/base",
            "_view_module_version": "1.2.0",
            "_view_name": "LayoutView",
            "align_content": null,
            "align_items": null,
            "align_self": null,
            "border": null,
            "bottom": null,
            "display": null,
            "flex": null,
            "flex_flow": null,
            "grid_area": null,
            "grid_auto_columns": null,
            "grid_auto_flow": null,
            "grid_auto_rows": null,
            "grid_column": null,
            "grid_gap": null,
            "grid_row": null,
            "grid_template_areas": null,
            "grid_template_columns": null,
            "grid_template_rows": null,
            "height": null,
            "justify_content": null,
            "justify_items": null,
            "left": null,
            "margin": null,
            "max_height": null,
            "max_width": null,
            "min_height": null,
            "min_width": null,
            "object_fit": null,
            "object_position": null,
            "order": null,
            "overflow": null,
            "overflow_x": null,
            "overflow_y": null,
            "padding": null,
            "right": null,
            "top": null,
            "visibility": null,
            "width": null
          }
        },
        "20ab686b346f43b7ad576b58de9fc411": {
          "model_module": "@jupyter-widgets/controls",
          "model_name": "DescriptionStyleModel",
          "model_module_version": "1.5.0",
          "state": {
            "_model_module": "@jupyter-widgets/controls",
            "_model_module_version": "1.5.0",
            "_model_name": "DescriptionStyleModel",
            "_view_count": null,
            "_view_module": "@jupyter-widgets/base",
            "_view_module_version": "1.2.0",
            "_view_name": "StyleView",
            "description_width": ""
          }
        },
        "ff00288279e741b882150968965fa12b": {
          "model_module": "@jupyter-widgets/base",
          "model_name": "LayoutModel",
          "model_module_version": "1.2.0",
          "state": {
            "_model_module": "@jupyter-widgets/base",
            "_model_module_version": "1.2.0",
            "_model_name": "LayoutModel",
            "_view_count": null,
            "_view_module": "@jupyter-widgets/base",
            "_view_module_version": "1.2.0",
            "_view_name": "LayoutView",
            "align_content": null,
            "align_items": null,
            "align_self": null,
            "border": null,
            "bottom": null,
            "display": null,
            "flex": null,
            "flex_flow": null,
            "grid_area": null,
            "grid_auto_columns": null,
            "grid_auto_flow": null,
            "grid_auto_rows": null,
            "grid_column": null,
            "grid_gap": null,
            "grid_row": null,
            "grid_template_areas": null,
            "grid_template_columns": null,
            "grid_template_rows": null,
            "height": null,
            "justify_content": null,
            "justify_items": null,
            "left": null,
            "margin": null,
            "max_height": null,
            "max_width": null,
            "min_height": null,
            "min_width": null,
            "object_fit": null,
            "object_position": null,
            "order": null,
            "overflow": null,
            "overflow_x": null,
            "overflow_y": null,
            "padding": null,
            "right": null,
            "top": null,
            "visibility": null,
            "width": null
          }
        },
        "1729bd8ae6f144f2b7e32042e62fb851": {
          "model_module": "@jupyter-widgets/controls",
          "model_name": "ProgressStyleModel",
          "model_module_version": "1.5.0",
          "state": {
            "_model_module": "@jupyter-widgets/controls",
            "_model_module_version": "1.5.0",
            "_model_name": "ProgressStyleModel",
            "_view_count": null,
            "_view_module": "@jupyter-widgets/base",
            "_view_module_version": "1.2.0",
            "_view_name": "StyleView",
            "bar_color": null,
            "description_width": ""
          }
        },
        "49c83e120a6e414a86dc01855cdcd4ec": {
          "model_module": "@jupyter-widgets/base",
          "model_name": "LayoutModel",
          "model_module_version": "1.2.0",
          "state": {
            "_model_module": "@jupyter-widgets/base",
            "_model_module_version": "1.2.0",
            "_model_name": "LayoutModel",
            "_view_count": null,
            "_view_module": "@jupyter-widgets/base",
            "_view_module_version": "1.2.0",
            "_view_name": "LayoutView",
            "align_content": null,
            "align_items": null,
            "align_self": null,
            "border": null,
            "bottom": null,
            "display": null,
            "flex": null,
            "flex_flow": null,
            "grid_area": null,
            "grid_auto_columns": null,
            "grid_auto_flow": null,
            "grid_auto_rows": null,
            "grid_column": null,
            "grid_gap": null,
            "grid_row": null,
            "grid_template_areas": null,
            "grid_template_columns": null,
            "grid_template_rows": null,
            "height": null,
            "justify_content": null,
            "justify_items": null,
            "left": null,
            "margin": null,
            "max_height": null,
            "max_width": null,
            "min_height": null,
            "min_width": null,
            "object_fit": null,
            "object_position": null,
            "order": null,
            "overflow": null,
            "overflow_x": null,
            "overflow_y": null,
            "padding": null,
            "right": null,
            "top": null,
            "visibility": null,
            "width": null
          }
        },
        "485bfd4e8a1d4d0c800454edc7a4f565": {
          "model_module": "@jupyter-widgets/controls",
          "model_name": "DescriptionStyleModel",
          "model_module_version": "1.5.0",
          "state": {
            "_model_module": "@jupyter-widgets/controls",
            "_model_module_version": "1.5.0",
            "_model_name": "DescriptionStyleModel",
            "_view_count": null,
            "_view_module": "@jupyter-widgets/base",
            "_view_module_version": "1.2.0",
            "_view_name": "StyleView",
            "description_width": ""
          }
        }
      }
    }
  },
  "nbformat": 4,
  "nbformat_minor": 0
}